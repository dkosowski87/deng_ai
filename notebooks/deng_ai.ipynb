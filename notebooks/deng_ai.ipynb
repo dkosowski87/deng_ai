{
 "cells": [
  {
   "cell_type": "markdown",
   "metadata": {},
   "source": [
    "# Project - DengAI"
   ]
  },
  {
   "cell_type": "markdown",
   "metadata": {},
   "source": [
    "## Objective & Description"
   ]
  },
  {
   "cell_type": "markdown",
   "metadata": {},
   "source": [
    "The goal of this project is to predict the number of dengue fever cases reported each week in San Juan (Puerto Rico) and Iquitos (Peru)."
   ]
  },
  {
   "cell_type": "markdown",
   "metadata": {},
   "source": [
    "Useful links:\n",
    "- https://www.cdc.gov/dengue/\n",
    "- https://obamawhitehouse.archives.gov/blog/2015/06/05/back-future-using-historical-dengue-data-predict-next-epidemic\n",
    "- http://dengueforecasting.noaa.gov\n"
   ]
  },
  {
   "cell_type": "markdown",
   "metadata": {},
   "source": [
    "## Base Setup"
   ]
  },
  {
   "cell_type": "code",
   "execution_count": 153,
   "metadata": {},
   "outputs": [],
   "source": [
    "import math\n",
    "\n",
    "import pandas as pd\n",
    "import numpy as np\n",
    "import tensorflow as tf\n",
    "import tensorflow_probability as tfp\n",
    "from sklearn import metrics\n",
    "from matplotlib import pyplot as plt\n",
    "from tensorflow.python.data import Dataset\n",
    "import statsmodels.api as sm"
   ]
  },
  {
   "cell_type": "code",
   "execution_count": 154,
   "metadata": {},
   "outputs": [],
   "source": [
    "pd.options.display.float_format = '{:.2f}'.format\n",
    "pd.options.display.max_rows = 30\n",
    "tf.logging.set_verbosity(tf.logging.ERROR)"
   ]
  },
  {
   "cell_type": "markdown",
   "metadata": {},
   "source": [
    "## Analysing the Dataset"
   ]
  },
  {
   "cell_type": "markdown",
   "metadata": {},
   "source": [
    "### Importing data "
   ]
  },
  {
   "cell_type": "markdown",
   "metadata": {},
   "source": [
    "#### Importing training features"
   ]
  },
  {
   "cell_type": "code",
   "execution_count": 155,
   "metadata": {},
   "outputs": [
    {
     "data": {
      "text/html": [
       "<div>\n",
       "<style scoped>\n",
       "    .dataframe tbody tr th:only-of-type {\n",
       "        vertical-align: middle;\n",
       "    }\n",
       "\n",
       "    .dataframe tbody tr th {\n",
       "        vertical-align: top;\n",
       "    }\n",
       "\n",
       "    .dataframe thead th {\n",
       "        text-align: right;\n",
       "    }\n",
       "</style>\n",
       "<table border=\"1\" class=\"dataframe\">\n",
       "  <thead>\n",
       "    <tr style=\"text-align: right;\">\n",
       "      <th></th>\n",
       "      <th>city</th>\n",
       "      <th>year</th>\n",
       "      <th>weekofyear</th>\n",
       "      <th>week_start_date</th>\n",
       "      <th>ndvi_ne</th>\n",
       "      <th>ndvi_nw</th>\n",
       "      <th>ndvi_se</th>\n",
       "      <th>ndvi_sw</th>\n",
       "      <th>precipitation_amt_mm</th>\n",
       "      <th>reanalysis_air_temp_k</th>\n",
       "      <th>...</th>\n",
       "      <th>reanalysis_precip_amt_kg_per_m2</th>\n",
       "      <th>reanalysis_relative_humidity_percent</th>\n",
       "      <th>reanalysis_sat_precip_amt_mm</th>\n",
       "      <th>reanalysis_specific_humidity_g_per_kg</th>\n",
       "      <th>reanalysis_tdtr_k</th>\n",
       "      <th>station_avg_temp_c</th>\n",
       "      <th>station_diur_temp_rng_c</th>\n",
       "      <th>station_max_temp_c</th>\n",
       "      <th>station_min_temp_c</th>\n",
       "      <th>station_precip_mm</th>\n",
       "    </tr>\n",
       "  </thead>\n",
       "  <tbody>\n",
       "    <tr>\n",
       "      <th>0</th>\n",
       "      <td>sj</td>\n",
       "      <td>1990</td>\n",
       "      <td>18</td>\n",
       "      <td>1990-04-30</td>\n",
       "      <td>0.12</td>\n",
       "      <td>0.10</td>\n",
       "      <td>0.20</td>\n",
       "      <td>0.18</td>\n",
       "      <td>12.42</td>\n",
       "      <td>297.57</td>\n",
       "      <td>...</td>\n",
       "      <td>32.00</td>\n",
       "      <td>73.37</td>\n",
       "      <td>12.42</td>\n",
       "      <td>14.01</td>\n",
       "      <td>2.63</td>\n",
       "      <td>25.44</td>\n",
       "      <td>6.90</td>\n",
       "      <td>29.40</td>\n",
       "      <td>20.00</td>\n",
       "      <td>16.00</td>\n",
       "    </tr>\n",
       "    <tr>\n",
       "      <th>1</th>\n",
       "      <td>sj</td>\n",
       "      <td>1990</td>\n",
       "      <td>19</td>\n",
       "      <td>1990-05-07</td>\n",
       "      <td>0.17</td>\n",
       "      <td>0.14</td>\n",
       "      <td>0.16</td>\n",
       "      <td>0.16</td>\n",
       "      <td>22.82</td>\n",
       "      <td>298.21</td>\n",
       "      <td>...</td>\n",
       "      <td>17.94</td>\n",
       "      <td>77.37</td>\n",
       "      <td>22.82</td>\n",
       "      <td>15.37</td>\n",
       "      <td>2.37</td>\n",
       "      <td>26.71</td>\n",
       "      <td>6.37</td>\n",
       "      <td>31.70</td>\n",
       "      <td>22.20</td>\n",
       "      <td>8.60</td>\n",
       "    </tr>\n",
       "    <tr>\n",
       "      <th>2</th>\n",
       "      <td>sj</td>\n",
       "      <td>1990</td>\n",
       "      <td>20</td>\n",
       "      <td>1990-05-14</td>\n",
       "      <td>0.03</td>\n",
       "      <td>0.17</td>\n",
       "      <td>0.16</td>\n",
       "      <td>0.17</td>\n",
       "      <td>34.54</td>\n",
       "      <td>298.78</td>\n",
       "      <td>...</td>\n",
       "      <td>26.10</td>\n",
       "      <td>82.05</td>\n",
       "      <td>34.54</td>\n",
       "      <td>16.85</td>\n",
       "      <td>2.30</td>\n",
       "      <td>26.71</td>\n",
       "      <td>6.49</td>\n",
       "      <td>32.20</td>\n",
       "      <td>22.80</td>\n",
       "      <td>41.40</td>\n",
       "    </tr>\n",
       "    <tr>\n",
       "      <th>3</th>\n",
       "      <td>sj</td>\n",
       "      <td>1990</td>\n",
       "      <td>21</td>\n",
       "      <td>1990-05-21</td>\n",
       "      <td>0.13</td>\n",
       "      <td>0.25</td>\n",
       "      <td>0.23</td>\n",
       "      <td>0.24</td>\n",
       "      <td>15.36</td>\n",
       "      <td>298.99</td>\n",
       "      <td>...</td>\n",
       "      <td>13.90</td>\n",
       "      <td>80.34</td>\n",
       "      <td>15.36</td>\n",
       "      <td>16.67</td>\n",
       "      <td>2.43</td>\n",
       "      <td>27.47</td>\n",
       "      <td>6.77</td>\n",
       "      <td>33.30</td>\n",
       "      <td>23.30</td>\n",
       "      <td>4.00</td>\n",
       "    </tr>\n",
       "    <tr>\n",
       "      <th>4</th>\n",
       "      <td>sj</td>\n",
       "      <td>1990</td>\n",
       "      <td>22</td>\n",
       "      <td>1990-05-28</td>\n",
       "      <td>0.20</td>\n",
       "      <td>0.26</td>\n",
       "      <td>0.25</td>\n",
       "      <td>0.25</td>\n",
       "      <td>7.52</td>\n",
       "      <td>299.52</td>\n",
       "      <td>...</td>\n",
       "      <td>12.20</td>\n",
       "      <td>80.46</td>\n",
       "      <td>7.52</td>\n",
       "      <td>17.21</td>\n",
       "      <td>3.01</td>\n",
       "      <td>28.94</td>\n",
       "      <td>9.37</td>\n",
       "      <td>35.00</td>\n",
       "      <td>23.90</td>\n",
       "      <td>5.80</td>\n",
       "    </tr>\n",
       "  </tbody>\n",
       "</table>\n",
       "<p>5 rows × 24 columns</p>\n",
       "</div>"
      ],
      "text/plain": [
       "  city  year  weekofyear week_start_date  ndvi_ne  ndvi_nw  ndvi_se  ndvi_sw  \\\n",
       "0   sj  1990          18      1990-04-30     0.12     0.10     0.20     0.18   \n",
       "1   sj  1990          19      1990-05-07     0.17     0.14     0.16     0.16   \n",
       "2   sj  1990          20      1990-05-14     0.03     0.17     0.16     0.17   \n",
       "3   sj  1990          21      1990-05-21     0.13     0.25     0.23     0.24   \n",
       "4   sj  1990          22      1990-05-28     0.20     0.26     0.25     0.25   \n",
       "\n",
       "   precipitation_amt_mm  reanalysis_air_temp_k        ...          \\\n",
       "0                 12.42                 297.57        ...           \n",
       "1                 22.82                 298.21        ...           \n",
       "2                 34.54                 298.78        ...           \n",
       "3                 15.36                 298.99        ...           \n",
       "4                  7.52                 299.52        ...           \n",
       "\n",
       "   reanalysis_precip_amt_kg_per_m2  reanalysis_relative_humidity_percent  \\\n",
       "0                            32.00                                 73.37   \n",
       "1                            17.94                                 77.37   \n",
       "2                            26.10                                 82.05   \n",
       "3                            13.90                                 80.34   \n",
       "4                            12.20                                 80.46   \n",
       "\n",
       "   reanalysis_sat_precip_amt_mm  reanalysis_specific_humidity_g_per_kg  \\\n",
       "0                         12.42                                  14.01   \n",
       "1                         22.82                                  15.37   \n",
       "2                         34.54                                  16.85   \n",
       "3                         15.36                                  16.67   \n",
       "4                          7.52                                  17.21   \n",
       "\n",
       "   reanalysis_tdtr_k  station_avg_temp_c  station_diur_temp_rng_c  \\\n",
       "0               2.63               25.44                     6.90   \n",
       "1               2.37               26.71                     6.37   \n",
       "2               2.30               26.71                     6.49   \n",
       "3               2.43               27.47                     6.77   \n",
       "4               3.01               28.94                     9.37   \n",
       "\n",
       "   station_max_temp_c  station_min_temp_c  station_precip_mm  \n",
       "0               29.40               20.00              16.00  \n",
       "1               31.70               22.20               8.60  \n",
       "2               32.20               22.80              41.40  \n",
       "3               33.30               23.30               4.00  \n",
       "4               35.00               23.90               5.80  \n",
       "\n",
       "[5 rows x 24 columns]"
      ]
     },
     "execution_count": 155,
     "metadata": {},
     "output_type": "execute_result"
    }
   ],
   "source": [
    "climate_variables_dataframe = pd.read_csv('../data/DengAI_Predicting_Disease_Spread_-_Training_Data_Features.csv')\n",
    "climate_variables_dataframe.head()"
   ]
  },
  {
   "cell_type": "markdown",
   "metadata": {},
   "source": [
    "#### Importing training labels "
   ]
  },
  {
   "cell_type": "code",
   "execution_count": 156,
   "metadata": {},
   "outputs": [
    {
     "data": {
      "text/html": [
       "<div>\n",
       "<style scoped>\n",
       "    .dataframe tbody tr th:only-of-type {\n",
       "        vertical-align: middle;\n",
       "    }\n",
       "\n",
       "    .dataframe tbody tr th {\n",
       "        vertical-align: top;\n",
       "    }\n",
       "\n",
       "    .dataframe thead th {\n",
       "        text-align: right;\n",
       "    }\n",
       "</style>\n",
       "<table border=\"1\" class=\"dataframe\">\n",
       "  <thead>\n",
       "    <tr style=\"text-align: right;\">\n",
       "      <th></th>\n",
       "      <th>city</th>\n",
       "      <th>year</th>\n",
       "      <th>weekofyear</th>\n",
       "      <th>total_cases</th>\n",
       "    </tr>\n",
       "  </thead>\n",
       "  <tbody>\n",
       "    <tr>\n",
       "      <th>0</th>\n",
       "      <td>sj</td>\n",
       "      <td>1990</td>\n",
       "      <td>18</td>\n",
       "      <td>4</td>\n",
       "    </tr>\n",
       "    <tr>\n",
       "      <th>1</th>\n",
       "      <td>sj</td>\n",
       "      <td>1990</td>\n",
       "      <td>19</td>\n",
       "      <td>5</td>\n",
       "    </tr>\n",
       "    <tr>\n",
       "      <th>2</th>\n",
       "      <td>sj</td>\n",
       "      <td>1990</td>\n",
       "      <td>20</td>\n",
       "      <td>4</td>\n",
       "    </tr>\n",
       "    <tr>\n",
       "      <th>3</th>\n",
       "      <td>sj</td>\n",
       "      <td>1990</td>\n",
       "      <td>21</td>\n",
       "      <td>3</td>\n",
       "    </tr>\n",
       "    <tr>\n",
       "      <th>4</th>\n",
       "      <td>sj</td>\n",
       "      <td>1990</td>\n",
       "      <td>22</td>\n",
       "      <td>6</td>\n",
       "    </tr>\n",
       "    <tr>\n",
       "      <th>5</th>\n",
       "      <td>sj</td>\n",
       "      <td>1990</td>\n",
       "      <td>23</td>\n",
       "      <td>2</td>\n",
       "    </tr>\n",
       "    <tr>\n",
       "      <th>6</th>\n",
       "      <td>sj</td>\n",
       "      <td>1990</td>\n",
       "      <td>24</td>\n",
       "      <td>4</td>\n",
       "    </tr>\n",
       "    <tr>\n",
       "      <th>7</th>\n",
       "      <td>sj</td>\n",
       "      <td>1990</td>\n",
       "      <td>25</td>\n",
       "      <td>5</td>\n",
       "    </tr>\n",
       "    <tr>\n",
       "      <th>8</th>\n",
       "      <td>sj</td>\n",
       "      <td>1990</td>\n",
       "      <td>26</td>\n",
       "      <td>10</td>\n",
       "    </tr>\n",
       "    <tr>\n",
       "      <th>9</th>\n",
       "      <td>sj</td>\n",
       "      <td>1990</td>\n",
       "      <td>27</td>\n",
       "      <td>6</td>\n",
       "    </tr>\n",
       "    <tr>\n",
       "      <th>10</th>\n",
       "      <td>sj</td>\n",
       "      <td>1990</td>\n",
       "      <td>28</td>\n",
       "      <td>8</td>\n",
       "    </tr>\n",
       "    <tr>\n",
       "      <th>11</th>\n",
       "      <td>sj</td>\n",
       "      <td>1990</td>\n",
       "      <td>29</td>\n",
       "      <td>2</td>\n",
       "    </tr>\n",
       "    <tr>\n",
       "      <th>12</th>\n",
       "      <td>sj</td>\n",
       "      <td>1990</td>\n",
       "      <td>30</td>\n",
       "      <td>6</td>\n",
       "    </tr>\n",
       "    <tr>\n",
       "      <th>13</th>\n",
       "      <td>sj</td>\n",
       "      <td>1990</td>\n",
       "      <td>31</td>\n",
       "      <td>17</td>\n",
       "    </tr>\n",
       "    <tr>\n",
       "      <th>14</th>\n",
       "      <td>sj</td>\n",
       "      <td>1990</td>\n",
       "      <td>32</td>\n",
       "      <td>23</td>\n",
       "    </tr>\n",
       "    <tr>\n",
       "      <th>...</th>\n",
       "      <td>...</td>\n",
       "      <td>...</td>\n",
       "      <td>...</td>\n",
       "      <td>...</td>\n",
       "    </tr>\n",
       "    <tr>\n",
       "      <th>1441</th>\n",
       "      <td>iq</td>\n",
       "      <td>2010</td>\n",
       "      <td>11</td>\n",
       "      <td>16</td>\n",
       "    </tr>\n",
       "    <tr>\n",
       "      <th>1442</th>\n",
       "      <td>iq</td>\n",
       "      <td>2010</td>\n",
       "      <td>12</td>\n",
       "      <td>9</td>\n",
       "    </tr>\n",
       "    <tr>\n",
       "      <th>1443</th>\n",
       "      <td>iq</td>\n",
       "      <td>2010</td>\n",
       "      <td>13</td>\n",
       "      <td>4</td>\n",
       "    </tr>\n",
       "    <tr>\n",
       "      <th>1444</th>\n",
       "      <td>iq</td>\n",
       "      <td>2010</td>\n",
       "      <td>14</td>\n",
       "      <td>9</td>\n",
       "    </tr>\n",
       "    <tr>\n",
       "      <th>1445</th>\n",
       "      <td>iq</td>\n",
       "      <td>2010</td>\n",
       "      <td>15</td>\n",
       "      <td>6</td>\n",
       "    </tr>\n",
       "    <tr>\n",
       "      <th>1446</th>\n",
       "      <td>iq</td>\n",
       "      <td>2010</td>\n",
       "      <td>16</td>\n",
       "      <td>8</td>\n",
       "    </tr>\n",
       "    <tr>\n",
       "      <th>1447</th>\n",
       "      <td>iq</td>\n",
       "      <td>2010</td>\n",
       "      <td>17</td>\n",
       "      <td>4</td>\n",
       "    </tr>\n",
       "    <tr>\n",
       "      <th>1448</th>\n",
       "      <td>iq</td>\n",
       "      <td>2010</td>\n",
       "      <td>18</td>\n",
       "      <td>2</td>\n",
       "    </tr>\n",
       "    <tr>\n",
       "      <th>1449</th>\n",
       "      <td>iq</td>\n",
       "      <td>2010</td>\n",
       "      <td>19</td>\n",
       "      <td>7</td>\n",
       "    </tr>\n",
       "    <tr>\n",
       "      <th>1450</th>\n",
       "      <td>iq</td>\n",
       "      <td>2010</td>\n",
       "      <td>20</td>\n",
       "      <td>6</td>\n",
       "    </tr>\n",
       "    <tr>\n",
       "      <th>1451</th>\n",
       "      <td>iq</td>\n",
       "      <td>2010</td>\n",
       "      <td>21</td>\n",
       "      <td>5</td>\n",
       "    </tr>\n",
       "    <tr>\n",
       "      <th>1452</th>\n",
       "      <td>iq</td>\n",
       "      <td>2010</td>\n",
       "      <td>22</td>\n",
       "      <td>8</td>\n",
       "    </tr>\n",
       "    <tr>\n",
       "      <th>1453</th>\n",
       "      <td>iq</td>\n",
       "      <td>2010</td>\n",
       "      <td>23</td>\n",
       "      <td>1</td>\n",
       "    </tr>\n",
       "    <tr>\n",
       "      <th>1454</th>\n",
       "      <td>iq</td>\n",
       "      <td>2010</td>\n",
       "      <td>24</td>\n",
       "      <td>1</td>\n",
       "    </tr>\n",
       "    <tr>\n",
       "      <th>1455</th>\n",
       "      <td>iq</td>\n",
       "      <td>2010</td>\n",
       "      <td>25</td>\n",
       "      <td>4</td>\n",
       "    </tr>\n",
       "  </tbody>\n",
       "</table>\n",
       "<p>1456 rows × 4 columns</p>\n",
       "</div>"
      ],
      "text/plain": [
       "     city  year  weekofyear  total_cases\n",
       "0      sj  1990          18            4\n",
       "1      sj  1990          19            5\n",
       "2      sj  1990          20            4\n",
       "3      sj  1990          21            3\n",
       "4      sj  1990          22            6\n",
       "5      sj  1990          23            2\n",
       "6      sj  1990          24            4\n",
       "7      sj  1990          25            5\n",
       "8      sj  1990          26           10\n",
       "9      sj  1990          27            6\n",
       "10     sj  1990          28            8\n",
       "11     sj  1990          29            2\n",
       "12     sj  1990          30            6\n",
       "13     sj  1990          31           17\n",
       "14     sj  1990          32           23\n",
       "...   ...   ...         ...          ...\n",
       "1441   iq  2010          11           16\n",
       "1442   iq  2010          12            9\n",
       "1443   iq  2010          13            4\n",
       "1444   iq  2010          14            9\n",
       "1445   iq  2010          15            6\n",
       "1446   iq  2010          16            8\n",
       "1447   iq  2010          17            4\n",
       "1448   iq  2010          18            2\n",
       "1449   iq  2010          19            7\n",
       "1450   iq  2010          20            6\n",
       "1451   iq  2010          21            5\n",
       "1452   iq  2010          22            8\n",
       "1453   iq  2010          23            1\n",
       "1454   iq  2010          24            1\n",
       "1455   iq  2010          25            4\n",
       "\n",
       "[1456 rows x 4 columns]"
      ]
     },
     "execution_count": 156,
     "metadata": {},
     "output_type": "execute_result"
    }
   ],
   "source": [
    "labels_dataframe = pd.read_csv('../data/DengAI_Predicting_Disease_Spread_-_Training_Data_Labels.csv')\n",
    "labels_dataframe"
   ]
  },
  {
   "cell_type": "markdown",
   "metadata": {},
   "source": [
    "### Descriptive statistics "
   ]
  },
  {
   "cell_type": "code",
   "execution_count": 157,
   "metadata": {},
   "outputs": [
    {
     "data": {
      "text/html": [
       "<div>\n",
       "<style scoped>\n",
       "    .dataframe tbody tr th:only-of-type {\n",
       "        vertical-align: middle;\n",
       "    }\n",
       "\n",
       "    .dataframe tbody tr th {\n",
       "        vertical-align: top;\n",
       "    }\n",
       "\n",
       "    .dataframe thead th {\n",
       "        text-align: right;\n",
       "    }\n",
       "</style>\n",
       "<table border=\"1\" class=\"dataframe\">\n",
       "  <thead>\n",
       "    <tr style=\"text-align: right;\">\n",
       "      <th></th>\n",
       "      <th>year</th>\n",
       "      <th>weekofyear</th>\n",
       "      <th>ndvi_ne</th>\n",
       "      <th>ndvi_nw</th>\n",
       "      <th>ndvi_se</th>\n",
       "      <th>ndvi_sw</th>\n",
       "      <th>precipitation_amt_mm</th>\n",
       "      <th>reanalysis_air_temp_k</th>\n",
       "      <th>reanalysis_avg_temp_k</th>\n",
       "      <th>reanalysis_dew_point_temp_k</th>\n",
       "      <th>...</th>\n",
       "      <th>reanalysis_precip_amt_kg_per_m2</th>\n",
       "      <th>reanalysis_relative_humidity_percent</th>\n",
       "      <th>reanalysis_sat_precip_amt_mm</th>\n",
       "      <th>reanalysis_specific_humidity_g_per_kg</th>\n",
       "      <th>reanalysis_tdtr_k</th>\n",
       "      <th>station_avg_temp_c</th>\n",
       "      <th>station_diur_temp_rng_c</th>\n",
       "      <th>station_max_temp_c</th>\n",
       "      <th>station_min_temp_c</th>\n",
       "      <th>station_precip_mm</th>\n",
       "    </tr>\n",
       "  </thead>\n",
       "  <tbody>\n",
       "    <tr>\n",
       "      <th>count</th>\n",
       "      <td>1456.00</td>\n",
       "      <td>1456.00</td>\n",
       "      <td>1262.00</td>\n",
       "      <td>1404.00</td>\n",
       "      <td>1434.00</td>\n",
       "      <td>1434.00</td>\n",
       "      <td>1443.00</td>\n",
       "      <td>1446.00</td>\n",
       "      <td>1446.00</td>\n",
       "      <td>1446.00</td>\n",
       "      <td>...</td>\n",
       "      <td>1446.00</td>\n",
       "      <td>1446.00</td>\n",
       "      <td>1443.00</td>\n",
       "      <td>1446.00</td>\n",
       "      <td>1446.00</td>\n",
       "      <td>1413.00</td>\n",
       "      <td>1413.00</td>\n",
       "      <td>1436.00</td>\n",
       "      <td>1442.00</td>\n",
       "      <td>1434.00</td>\n",
       "    </tr>\n",
       "    <tr>\n",
       "      <th>mean</th>\n",
       "      <td>2001.03</td>\n",
       "      <td>26.50</td>\n",
       "      <td>0.14</td>\n",
       "      <td>0.13</td>\n",
       "      <td>0.20</td>\n",
       "      <td>0.20</td>\n",
       "      <td>45.76</td>\n",
       "      <td>298.70</td>\n",
       "      <td>299.23</td>\n",
       "      <td>295.25</td>\n",
       "      <td>...</td>\n",
       "      <td>40.15</td>\n",
       "      <td>82.16</td>\n",
       "      <td>45.76</td>\n",
       "      <td>16.75</td>\n",
       "      <td>4.90</td>\n",
       "      <td>27.19</td>\n",
       "      <td>8.06</td>\n",
       "      <td>32.45</td>\n",
       "      <td>22.10</td>\n",
       "      <td>39.33</td>\n",
       "    </tr>\n",
       "    <tr>\n",
       "      <th>std</th>\n",
       "      <td>5.41</td>\n",
       "      <td>15.02</td>\n",
       "      <td>0.14</td>\n",
       "      <td>0.12</td>\n",
       "      <td>0.07</td>\n",
       "      <td>0.08</td>\n",
       "      <td>43.72</td>\n",
       "      <td>1.36</td>\n",
       "      <td>1.26</td>\n",
       "      <td>1.53</td>\n",
       "      <td>...</td>\n",
       "      <td>43.43</td>\n",
       "      <td>7.15</td>\n",
       "      <td>43.72</td>\n",
       "      <td>1.54</td>\n",
       "      <td>3.55</td>\n",
       "      <td>1.29</td>\n",
       "      <td>2.13</td>\n",
       "      <td>1.96</td>\n",
       "      <td>1.57</td>\n",
       "      <td>47.46</td>\n",
       "    </tr>\n",
       "    <tr>\n",
       "      <th>min</th>\n",
       "      <td>1990.00</td>\n",
       "      <td>1.00</td>\n",
       "      <td>-0.41</td>\n",
       "      <td>-0.46</td>\n",
       "      <td>-0.02</td>\n",
       "      <td>-0.06</td>\n",
       "      <td>0.00</td>\n",
       "      <td>294.64</td>\n",
       "      <td>294.89</td>\n",
       "      <td>289.64</td>\n",
       "      <td>...</td>\n",
       "      <td>0.00</td>\n",
       "      <td>57.79</td>\n",
       "      <td>0.00</td>\n",
       "      <td>11.72</td>\n",
       "      <td>1.36</td>\n",
       "      <td>21.40</td>\n",
       "      <td>4.53</td>\n",
       "      <td>26.70</td>\n",
       "      <td>14.70</td>\n",
       "      <td>0.00</td>\n",
       "    </tr>\n",
       "    <tr>\n",
       "      <th>25%</th>\n",
       "      <td>1997.00</td>\n",
       "      <td>13.75</td>\n",
       "      <td>0.04</td>\n",
       "      <td>0.05</td>\n",
       "      <td>0.16</td>\n",
       "      <td>0.14</td>\n",
       "      <td>9.80</td>\n",
       "      <td>297.66</td>\n",
       "      <td>298.26</td>\n",
       "      <td>294.12</td>\n",
       "      <td>...</td>\n",
       "      <td>13.05</td>\n",
       "      <td>77.18</td>\n",
       "      <td>9.80</td>\n",
       "      <td>15.56</td>\n",
       "      <td>2.33</td>\n",
       "      <td>26.30</td>\n",
       "      <td>6.51</td>\n",
       "      <td>31.10</td>\n",
       "      <td>21.10</td>\n",
       "      <td>8.70</td>\n",
       "    </tr>\n",
       "    <tr>\n",
       "      <th>50%</th>\n",
       "      <td>2002.00</td>\n",
       "      <td>26.50</td>\n",
       "      <td>0.13</td>\n",
       "      <td>0.12</td>\n",
       "      <td>0.20</td>\n",
       "      <td>0.19</td>\n",
       "      <td>38.34</td>\n",
       "      <td>298.65</td>\n",
       "      <td>299.29</td>\n",
       "      <td>295.64</td>\n",
       "      <td>...</td>\n",
       "      <td>27.24</td>\n",
       "      <td>80.30</td>\n",
       "      <td>38.34</td>\n",
       "      <td>17.09</td>\n",
       "      <td>2.86</td>\n",
       "      <td>27.41</td>\n",
       "      <td>7.30</td>\n",
       "      <td>32.80</td>\n",
       "      <td>22.20</td>\n",
       "      <td>23.85</td>\n",
       "    </tr>\n",
       "    <tr>\n",
       "      <th>75%</th>\n",
       "      <td>2005.00</td>\n",
       "      <td>39.25</td>\n",
       "      <td>0.25</td>\n",
       "      <td>0.22</td>\n",
       "      <td>0.25</td>\n",
       "      <td>0.25</td>\n",
       "      <td>70.23</td>\n",
       "      <td>299.83</td>\n",
       "      <td>300.21</td>\n",
       "      <td>296.46</td>\n",
       "      <td>...</td>\n",
       "      <td>52.20</td>\n",
       "      <td>86.36</td>\n",
       "      <td>70.23</td>\n",
       "      <td>17.98</td>\n",
       "      <td>7.62</td>\n",
       "      <td>28.16</td>\n",
       "      <td>9.57</td>\n",
       "      <td>33.90</td>\n",
       "      <td>23.30</td>\n",
       "      <td>53.90</td>\n",
       "    </tr>\n",
       "    <tr>\n",
       "      <th>max</th>\n",
       "      <td>2010.00</td>\n",
       "      <td>53.00</td>\n",
       "      <td>0.51</td>\n",
       "      <td>0.45</td>\n",
       "      <td>0.54</td>\n",
       "      <td>0.55</td>\n",
       "      <td>390.60</td>\n",
       "      <td>302.20</td>\n",
       "      <td>302.93</td>\n",
       "      <td>298.45</td>\n",
       "      <td>...</td>\n",
       "      <td>570.50</td>\n",
       "      <td>98.61</td>\n",
       "      <td>390.60</td>\n",
       "      <td>20.46</td>\n",
       "      <td>16.03</td>\n",
       "      <td>30.80</td>\n",
       "      <td>15.80</td>\n",
       "      <td>42.20</td>\n",
       "      <td>25.60</td>\n",
       "      <td>543.30</td>\n",
       "    </tr>\n",
       "  </tbody>\n",
       "</table>\n",
       "<p>8 rows × 22 columns</p>\n",
       "</div>"
      ],
      "text/plain": [
       "         year  weekofyear  ndvi_ne  ndvi_nw  ndvi_se  ndvi_sw  \\\n",
       "count 1456.00     1456.00  1262.00  1404.00  1434.00  1434.00   \n",
       "mean  2001.03       26.50     0.14     0.13     0.20     0.20   \n",
       "std      5.41       15.02     0.14     0.12     0.07     0.08   \n",
       "min   1990.00        1.00    -0.41    -0.46    -0.02    -0.06   \n",
       "25%   1997.00       13.75     0.04     0.05     0.16     0.14   \n",
       "50%   2002.00       26.50     0.13     0.12     0.20     0.19   \n",
       "75%   2005.00       39.25     0.25     0.22     0.25     0.25   \n",
       "max   2010.00       53.00     0.51     0.45     0.54     0.55   \n",
       "\n",
       "       precipitation_amt_mm  reanalysis_air_temp_k  reanalysis_avg_temp_k  \\\n",
       "count               1443.00                1446.00                1446.00   \n",
       "mean                  45.76                 298.70                 299.23   \n",
       "std                   43.72                   1.36                   1.26   \n",
       "min                    0.00                 294.64                 294.89   \n",
       "25%                    9.80                 297.66                 298.26   \n",
       "50%                   38.34                 298.65                 299.29   \n",
       "75%                   70.23                 299.83                 300.21   \n",
       "max                  390.60                 302.20                 302.93   \n",
       "\n",
       "       reanalysis_dew_point_temp_k        ...          \\\n",
       "count                      1446.00        ...           \n",
       "mean                        295.25        ...           \n",
       "std                           1.53        ...           \n",
       "min                         289.64        ...           \n",
       "25%                         294.12        ...           \n",
       "50%                         295.64        ...           \n",
       "75%                         296.46        ...           \n",
       "max                         298.45        ...           \n",
       "\n",
       "       reanalysis_precip_amt_kg_per_m2  reanalysis_relative_humidity_percent  \\\n",
       "count                          1446.00                               1446.00   \n",
       "mean                             40.15                                 82.16   \n",
       "std                              43.43                                  7.15   \n",
       "min                               0.00                                 57.79   \n",
       "25%                              13.05                                 77.18   \n",
       "50%                              27.24                                 80.30   \n",
       "75%                              52.20                                 86.36   \n",
       "max                             570.50                                 98.61   \n",
       "\n",
       "       reanalysis_sat_precip_amt_mm  reanalysis_specific_humidity_g_per_kg  \\\n",
       "count                       1443.00                                1446.00   \n",
       "mean                          45.76                                  16.75   \n",
       "std                           43.72                                   1.54   \n",
       "min                            0.00                                  11.72   \n",
       "25%                            9.80                                  15.56   \n",
       "50%                           38.34                                  17.09   \n",
       "75%                           70.23                                  17.98   \n",
       "max                          390.60                                  20.46   \n",
       "\n",
       "       reanalysis_tdtr_k  station_avg_temp_c  station_diur_temp_rng_c  \\\n",
       "count            1446.00             1413.00                  1413.00   \n",
       "mean                4.90               27.19                     8.06   \n",
       "std                 3.55                1.29                     2.13   \n",
       "min                 1.36               21.40                     4.53   \n",
       "25%                 2.33               26.30                     6.51   \n",
       "50%                 2.86               27.41                     7.30   \n",
       "75%                 7.62               28.16                     9.57   \n",
       "max                16.03               30.80                    15.80   \n",
       "\n",
       "       station_max_temp_c  station_min_temp_c  station_precip_mm  \n",
       "count             1436.00             1442.00            1434.00  \n",
       "mean                32.45               22.10              39.33  \n",
       "std                  1.96                1.57              47.46  \n",
       "min                 26.70               14.70               0.00  \n",
       "25%                 31.10               21.10               8.70  \n",
       "50%                 32.80               22.20              23.85  \n",
       "75%                 33.90               23.30              53.90  \n",
       "max                 42.20               25.60             543.30  \n",
       "\n",
       "[8 rows x 22 columns]"
      ]
     },
     "execution_count": 157,
     "metadata": {},
     "output_type": "execute_result"
    }
   ],
   "source": [
    "climate_variables_dataframe.describe()"
   ]
  },
  {
   "cell_type": "markdown",
   "metadata": {},
   "source": [
    "- Inequal count of examples (data debugging is needed)\n",
    "- Different absolute values (some form of normalization is needed)\n",
    "- Temperature values seem to be approximately normally distributed\n",
    "- Diurnal temperature values and precipitation may be positively skewed (mean > median)\n",
    "- Precipitation variables seem to also contain outliers"
   ]
  },
  {
   "cell_type": "code",
   "execution_count": 158,
   "metadata": {},
   "outputs": [
    {
     "data": {
      "text/html": [
       "<div>\n",
       "<style scoped>\n",
       "    .dataframe tbody tr th:only-of-type {\n",
       "        vertical-align: middle;\n",
       "    }\n",
       "\n",
       "    .dataframe tbody tr th {\n",
       "        vertical-align: top;\n",
       "    }\n",
       "\n",
       "    .dataframe thead th {\n",
       "        text-align: right;\n",
       "    }\n",
       "</style>\n",
       "<table border=\"1\" class=\"dataframe\">\n",
       "  <thead>\n",
       "    <tr style=\"text-align: right;\">\n",
       "      <th></th>\n",
       "      <th>year</th>\n",
       "      <th>weekofyear</th>\n",
       "      <th>total_cases</th>\n",
       "    </tr>\n",
       "  </thead>\n",
       "  <tbody>\n",
       "    <tr>\n",
       "      <th>count</th>\n",
       "      <td>1456.00</td>\n",
       "      <td>1456.00</td>\n",
       "      <td>1456.00</td>\n",
       "    </tr>\n",
       "    <tr>\n",
       "      <th>mean</th>\n",
       "      <td>2001.03</td>\n",
       "      <td>26.50</td>\n",
       "      <td>24.68</td>\n",
       "    </tr>\n",
       "    <tr>\n",
       "      <th>std</th>\n",
       "      <td>5.41</td>\n",
       "      <td>15.02</td>\n",
       "      <td>43.60</td>\n",
       "    </tr>\n",
       "    <tr>\n",
       "      <th>min</th>\n",
       "      <td>1990.00</td>\n",
       "      <td>1.00</td>\n",
       "      <td>0.00</td>\n",
       "    </tr>\n",
       "    <tr>\n",
       "      <th>25%</th>\n",
       "      <td>1997.00</td>\n",
       "      <td>13.75</td>\n",
       "      <td>5.00</td>\n",
       "    </tr>\n",
       "    <tr>\n",
       "      <th>50%</th>\n",
       "      <td>2002.00</td>\n",
       "      <td>26.50</td>\n",
       "      <td>12.00</td>\n",
       "    </tr>\n",
       "    <tr>\n",
       "      <th>75%</th>\n",
       "      <td>2005.00</td>\n",
       "      <td>39.25</td>\n",
       "      <td>28.00</td>\n",
       "    </tr>\n",
       "    <tr>\n",
       "      <th>max</th>\n",
       "      <td>2010.00</td>\n",
       "      <td>53.00</td>\n",
       "      <td>461.00</td>\n",
       "    </tr>\n",
       "  </tbody>\n",
       "</table>\n",
       "</div>"
      ],
      "text/plain": [
       "         year  weekofyear  total_cases\n",
       "count 1456.00     1456.00      1456.00\n",
       "mean  2001.03       26.50        24.68\n",
       "std      5.41       15.02        43.60\n",
       "min   1990.00        1.00         0.00\n",
       "25%   1997.00       13.75         5.00\n",
       "50%   2002.00       26.50        12.00\n",
       "75%   2005.00       39.25        28.00\n",
       "max   2010.00       53.00       461.00"
      ]
     },
     "execution_count": 158,
     "metadata": {},
     "output_type": "execute_result"
    }
   ],
   "source": [
    "labels_dataframe.describe()"
   ]
  },
  {
   "cell_type": "markdown",
   "metadata": {},
   "source": [
    "- distribution may be positively skewed (mean > median)\n",
    "- seems to have some outliers (max 461 when std equal 44)"
   ]
  },
  {
   "cell_type": "markdown",
   "metadata": {},
   "source": [
    "### Histograms"
   ]
  },
  {
   "cell_type": "code",
   "execution_count": 159,
   "metadata": {},
   "outputs": [
    {
     "data": {
      "image/png": "[encoded data removed]",
      "text/plain": [
       "<Figure size 432x288 with 1 Axes>"
      ]
     },
     "metadata": {},
     "output_type": "display_data"
    },
    {
     "data": {
      "image/png": "[encoded data removed]",
      "text/plain": [
       "<Figure size 432x288 with 1 Axes>"
      ]
     },
     "metadata": {},
     "output_type": "display_data"
    },
    {
     "data": {
      "image/png": "[encoded data removed]",
      "text/plain": [
       "<Figure size 432x288 with 1 Axes>"
      ]
     },
     "metadata": {},
     "output_type": "display_data"
    },
    {
     "data": {
      "image/png": "[encoded data removed]",
      "text/plain": [
       "<Figure size 432x288 with 1 Axes>"
      ]
     },
     "metadata": {},
     "output_type": "display_data"
    },
    {
     "data": {
      "image/png": "[encoded data removed]",
      "text/plain": [
       "<Figure size 432x288 with 1 Axes>"
      ]
     },
     "metadata": {},
     "output_type": "display_data"
    },
    {
     "data": {
      "image/png": "[encoded data removed]",
      "text/plain": [
       "<Figure size 432x288 with 1 Axes>"
      ]
     },
     "metadata": {},
     "output_type": "display_data"
    },
    {
     "data": {
      "image/png": "[encoded data removed]",
      "text/plain": [
       "<Figure size 432x288 with 1 Axes>"
      ]
     },
     "metadata": {},
     "output_type": "display_data"
    },
    {
     "data": {
      "image/png": "[encoded data removed]",
      "text/plain": [
       "<Figure size 432x288 with 1 Axes>"
      ]
     },
     "metadata": {},
     "output_type": "display_data"
    },
    {
     "data": {
      "image/png": "[encoded data removed]",
      "text/plain": [
       "<Figure size 432x288 with 1 Axes>"
      ]
     },
     "metadata": {},
     "output_type": "display_data"
    },
    {
     "data": {
      "image/png": "[encoded data removed]",
      "text/plain": [
       "<Figure size 432x288 with 1 Axes>"
      ]
     },
     "metadata": {},
     "output_type": "display_data"
    },
    {
     "data": {
      "image/png": "[encoded data removed]",
      "text/plain": [
       "<Figure size 432x288 with 1 Axes>"
      ]
     },
     "metadata": {},
     "output_type": "display_data"
    },
    {
     "data": {
      "image/png": "[encoded data removed]",
      "text/plain": [
       "<Figure size 432x288 with 1 Axes>"
      ]
     },
     "metadata": {},
     "output_type": "display_data"
    },
    {
     "data": {
      "image/png": "[encoded data removed]",
      "text/plain": [
       "<Figure size 432x288 with 1 Axes>"
      ]
     },
     "metadata": {},
     "output_type": "display_data"
    },
    {
     "data": {
      "image/png": "[encoded data removed]",
      "text/plain": [
       "<Figure size 432x288 with 1 Axes>"
      ]
     },
     "metadata": {},
     "output_type": "display_data"
    },
    {
     "data": {
      "image/png": "[encoded data removed]",
      "text/plain": [
       "<Figure size 432x288 with 1 Axes>"
      ]
     },
     "metadata": {},
     "output_type": "display_data"
    },
    {
     "data": {
      "image/png": "[encoded data removed]",
      "text/plain": [
       "<Figure size 432x288 with 1 Axes>"
      ]
     },
     "metadata": {},
     "output_type": "display_data"
    },
    {
     "data": {
      "image/png": "[encoded data removed]",
      "text/plain": [
       "<Figure size 432x288 with 1 Axes>"
      ]
     },
     "metadata": {},
     "output_type": "display_data"
    },
    {
     "data": {
      "image/png": "[encoded data removed]",
      "text/plain": [
       "<Figure size 432x288 with 1 Axes>"
      ]
     },
     "metadata": {},
     "output_type": "display_data"
    },
    {
     "data": {
      "image/png": "[encoded data removed]",
      "text/plain": [
       "<Figure size 432x288 with 1 Axes>"
      ]
     },
     "metadata": {},
     "output_type": "display_data"
    },
    {
     "data": {
      "image/png": "[encoded data removed]",
      "text/plain": [
       "<Figure size 432x288 with 1 Axes>"
      ]
     },
     "metadata": {},
     "output_type": "display_data"
    }
   ],
   "source": [
    "for key in climate_variables_dataframe:\n",
    "    if key not in ['city', 'year', 'weekofyear', 'week_start_date']:\n",
    "        climate_variables_dataframe.hist(key)"
   ]
  },
  {
   "cell_type": "markdown",
   "metadata": {},
   "source": [
    "- `reanalysis_relative_humidity_percent` as a percentage value is bounded between 0% and 100%\n",
    "- the skeweness of precitipation and diurnal temp variables is confirmed\n",
    "- the `reanalysis_dew_point_temp_k` seems to be relatively negatively skewed, same goes for `reanalysis_min_air_temp_k`. `reanalysis_max_air_temp_k` seems to be positively skewed. The `station` min/max variables seem to point to the same."
   ]
  },
  {
   "cell_type": "code",
   "execution_count": 160,
   "metadata": {},
   "outputs": [
    {
     "data": {
      "text/plain": [
       "array([[<matplotlib.axes._subplots.AxesSubplot object at 0x1256bce48>]],\n",
       "      dtype=object)"
      ]
     },
     "execution_count": 160,
     "metadata": {},
     "output_type": "execute_result"
    },
    {
     "data": {
      "image/png": "[encoded data removed]",
      "text/plain": [
       "<Figure size 432x288 with 1 Axes>"
      ]
     },
     "metadata": {},
     "output_type": "display_data"
    }
   ],
   "source": [
    "labels_dataframe.hist('total_cases')"
   ]
  },
  {
   "cell_type": "markdown",
   "metadata": {},
   "source": [
    "- confirmed the suspected issues from the desriptive statistics"
   ]
  },
  {
   "cell_type": "code",
   "execution_count": 161,
   "metadata": {},
   "outputs": [
    {
     "data": {
      "text/plain": [
       "429    256\n",
       "431    263\n",
       "228    272\n",
       "239    288\n",
       "229    302\n",
       "430    329\n",
       "234    333\n",
       "235    353\n",
       "238    359\n",
       "237    364\n",
       "233    381\n",
       "230    395\n",
       "236    410\n",
       "231    426\n",
       "232    461\n",
       "Name: total_cases, dtype: int64"
      ]
     },
     "execution_count": 161,
     "metadata": {},
     "output_type": "execute_result"
    }
   ],
   "source": [
    "labels_dataframe['total_cases'].sort_values().tail(15)"
   ]
  },
  {
   "cell_type": "markdown",
   "metadata": {},
   "source": [
    "### Debugging data"
   ]
  },
  {
   "cell_type": "markdown",
   "metadata": {},
   "source": [
    "#### Checking for mislabeling"
   ]
  },
  {
   "cell_type": "code",
   "execution_count": 162,
   "metadata": {},
   "outputs": [
    {
     "data": {
      "text/plain": [
       "21"
      ]
     },
     "execution_count": 162,
     "metadata": {},
     "output_type": "execute_result"
    }
   ],
   "source": [
    "climate_variables_dataframe['year'].unique().size"
   ]
  },
  {
   "cell_type": "markdown",
   "metadata": {},
   "source": [
    "There are 21 years of data in the training set."
   ]
  },
  {
   "cell_type": "code",
   "execution_count": 163,
   "metadata": {},
   "outputs": [
    {
     "data": {
      "text/plain": [
       "sj    936\n",
       "iq    520\n",
       "Name: city, dtype: int64"
      ]
     },
     "execution_count": 163,
     "metadata": {},
     "output_type": "execute_result"
    }
   ],
   "source": [
    "climate_variables_dataframe['city'].value_counts()"
   ]
  },
  {
   "cell_type": "markdown",
   "metadata": {},
   "source": [
    "The count of examples for each city is not equal."
   ]
  },
  {
   "cell_type": "code",
   "execution_count": 164,
   "metadata": {},
   "outputs": [],
   "source": [
    "def count_for_city(city, feature):\n",
    "    city_data = climate_variables_dataframe.where(climate_variables_dataframe['city'] == city)\n",
    "    return city_data[feature].value_counts().sort_index()"
   ]
  },
  {
   "cell_type": "code",
   "execution_count": 165,
   "metadata": {},
   "outputs": [
    {
     "data": {
      "text/plain": [
       "1990.00    35\n",
       "1991.00    52\n",
       "1992.00    52\n",
       "1993.00    52\n",
       "1994.00    52\n",
       "1995.00    52\n",
       "1996.00    52\n",
       "1997.00    52\n",
       "1998.00    52\n",
       "1999.00    52\n",
       "2000.00    52\n",
       "2001.00    52\n",
       "2002.00    52\n",
       "2003.00    52\n",
       "2004.00    52\n",
       "2005.00    52\n",
       "2006.00    52\n",
       "2007.00    52\n",
       "2008.00    17\n",
       "Name: year, dtype: int64"
      ]
     },
     "execution_count": 165,
     "metadata": {},
     "output_type": "execute_result"
    }
   ],
   "source": [
    "count_for_city('sj', 'year')"
   ]
  },
  {
   "cell_type": "markdown",
   "metadata": {},
   "source": [
    "The data for San Juan starts from 1990 and spans until the first 17 weeks of 2008."
   ]
  },
  {
   "cell_type": "code",
   "execution_count": 166,
   "metadata": {},
   "outputs": [
    {
     "data": {
      "text/plain": [
       "2000.00    26\n",
       "2001.00    52\n",
       "2002.00    52\n",
       "2003.00    52\n",
       "2004.00    52\n",
       "2005.00    52\n",
       "2006.00    52\n",
       "2007.00    52\n",
       "2008.00    52\n",
       "2009.00    52\n",
       "2010.00    26\n",
       "Name: year, dtype: int64"
      ]
     },
     "execution_count": 166,
     "metadata": {},
     "output_type": "execute_result"
    }
   ],
   "source": [
    "count_for_city('iq', 'year')"
   ]
  },
  {
   "cell_type": "markdown",
   "metadata": {},
   "source": [
    "The data for Iquitos starts from the second half of the year 2000 and end with the end of the first half of 2010."
   ]
  },
  {
   "cell_type": "code",
   "execution_count": 167,
   "metadata": {},
   "outputs": [
    {
     "data": {
      "text/plain": [
       "52.00    15\n",
       "53.00     3\n",
       "Name: weekofyear, dtype: int64"
      ]
     },
     "execution_count": 167,
     "metadata": {},
     "output_type": "execute_result"
    }
   ],
   "source": [
    "NUMBER_OF_TOTAL_YEARS_SJ = 18\n",
    "years_of_weeks_sj = count_for_city('sj', 'weekofyear')\n",
    "years_of_weeks_sj[years_of_weeks_sj != NUMBER_OF_TOTAL_YEARS_SJ]"
   ]
  },
  {
   "cell_type": "code",
   "execution_count": 168,
   "metadata": {},
   "outputs": [
    {
     "data": {
      "text/plain": [
       "52.00    8\n",
       "53.00    2\n",
       "Name: weekofyear, dtype: int64"
      ]
     },
     "execution_count": 168,
     "metadata": {},
     "output_type": "execute_result"
    }
   ],
   "source": [
    "NUMBER_OF_TOTAL_YEARS_IQ = 10\n",
    "years_of_weeks_iq = count_for_city('iq', 'weekofyear')\n",
    "years_of_weeks_iq[years_of_weeks_iq != NUMBER_OF_TOTAL_YEARS_IQ]"
   ]
  },
  {
   "cell_type": "code",
   "execution_count": 169,
   "metadata": {},
   "outputs": [
    {
     "data": {
      "text/html": [
       "<div>\n",
       "<style scoped>\n",
       "    .dataframe tbody tr th:only-of-type {\n",
       "        vertical-align: middle;\n",
       "    }\n",
       "\n",
       "    .dataframe tbody tr th {\n",
       "        vertical-align: top;\n",
       "    }\n",
       "\n",
       "    .dataframe thead th {\n",
       "        text-align: right;\n",
       "    }\n",
       "</style>\n",
       "<table border=\"1\" class=\"dataframe\">\n",
       "  <thead>\n",
       "    <tr style=\"text-align: right;\">\n",
       "      <th></th>\n",
       "      <th>city</th>\n",
       "      <th>year</th>\n",
       "      <th>weekofyear</th>\n",
       "      <th>week_start_date</th>\n",
       "      <th>ndvi_ne</th>\n",
       "      <th>ndvi_nw</th>\n",
       "      <th>ndvi_se</th>\n",
       "      <th>ndvi_sw</th>\n",
       "      <th>precipitation_amt_mm</th>\n",
       "      <th>reanalysis_air_temp_k</th>\n",
       "      <th>...</th>\n",
       "      <th>reanalysis_precip_amt_kg_per_m2</th>\n",
       "      <th>reanalysis_relative_humidity_percent</th>\n",
       "      <th>reanalysis_sat_precip_amt_mm</th>\n",
       "      <th>reanalysis_specific_humidity_g_per_kg</th>\n",
       "      <th>reanalysis_tdtr_k</th>\n",
       "      <th>station_avg_temp_c</th>\n",
       "      <th>station_diur_temp_rng_c</th>\n",
       "      <th>station_max_temp_c</th>\n",
       "      <th>station_min_temp_c</th>\n",
       "      <th>station_precip_mm</th>\n",
       "    </tr>\n",
       "  </thead>\n",
       "  <tbody>\n",
       "    <tr>\n",
       "      <th>139</th>\n",
       "      <td>sj</td>\n",
       "      <td>1993</td>\n",
       "      <td>53</td>\n",
       "      <td>1993-01-01</td>\n",
       "      <td>nan</td>\n",
       "      <td>nan</td>\n",
       "      <td>nan</td>\n",
       "      <td>nan</td>\n",
       "      <td>nan</td>\n",
       "      <td>nan</td>\n",
       "      <td>...</td>\n",
       "      <td>nan</td>\n",
       "      <td>nan</td>\n",
       "      <td>nan</td>\n",
       "      <td>nan</td>\n",
       "      <td>nan</td>\n",
       "      <td>nan</td>\n",
       "      <td>nan</td>\n",
       "      <td>nan</td>\n",
       "      <td>nan</td>\n",
       "      <td>nan</td>\n",
       "    </tr>\n",
       "    <tr>\n",
       "      <th>451</th>\n",
       "      <td>sj</td>\n",
       "      <td>1999</td>\n",
       "      <td>53</td>\n",
       "      <td>1999-01-01</td>\n",
       "      <td>nan</td>\n",
       "      <td>nan</td>\n",
       "      <td>nan</td>\n",
       "      <td>nan</td>\n",
       "      <td>nan</td>\n",
       "      <td>nan</td>\n",
       "      <td>...</td>\n",
       "      <td>nan</td>\n",
       "      <td>nan</td>\n",
       "      <td>nan</td>\n",
       "      <td>nan</td>\n",
       "      <td>nan</td>\n",
       "      <td>nan</td>\n",
       "      <td>nan</td>\n",
       "      <td>nan</td>\n",
       "      <td>nan</td>\n",
       "      <td>nan</td>\n",
       "    </tr>\n",
       "    <tr>\n",
       "      <th>763</th>\n",
       "      <td>sj</td>\n",
       "      <td>2005</td>\n",
       "      <td>53</td>\n",
       "      <td>2005-01-01</td>\n",
       "      <td>nan</td>\n",
       "      <td>nan</td>\n",
       "      <td>nan</td>\n",
       "      <td>nan</td>\n",
       "      <td>nan</td>\n",
       "      <td>nan</td>\n",
       "      <td>...</td>\n",
       "      <td>nan</td>\n",
       "      <td>nan</td>\n",
       "      <td>nan</td>\n",
       "      <td>nan</td>\n",
       "      <td>nan</td>\n",
       "      <td>nan</td>\n",
       "      <td>nan</td>\n",
       "      <td>nan</td>\n",
       "      <td>nan</td>\n",
       "      <td>nan</td>\n",
       "    </tr>\n",
       "    <tr>\n",
       "      <th>1170</th>\n",
       "      <td>iq</td>\n",
       "      <td>2005</td>\n",
       "      <td>53</td>\n",
       "      <td>2005-01-01</td>\n",
       "      <td>nan</td>\n",
       "      <td>nan</td>\n",
       "      <td>nan</td>\n",
       "      <td>nan</td>\n",
       "      <td>nan</td>\n",
       "      <td>nan</td>\n",
       "      <td>...</td>\n",
       "      <td>nan</td>\n",
       "      <td>nan</td>\n",
       "      <td>nan</td>\n",
       "      <td>nan</td>\n",
       "      <td>nan</td>\n",
       "      <td>nan</td>\n",
       "      <td>nan</td>\n",
       "      <td>nan</td>\n",
       "      <td>nan</td>\n",
       "      <td>nan</td>\n",
       "    </tr>\n",
       "    <tr>\n",
       "      <th>1430</th>\n",
       "      <td>iq</td>\n",
       "      <td>2010</td>\n",
       "      <td>53</td>\n",
       "      <td>2010-01-01</td>\n",
       "      <td>nan</td>\n",
       "      <td>nan</td>\n",
       "      <td>nan</td>\n",
       "      <td>nan</td>\n",
       "      <td>nan</td>\n",
       "      <td>nan</td>\n",
       "      <td>...</td>\n",
       "      <td>nan</td>\n",
       "      <td>nan</td>\n",
       "      <td>nan</td>\n",
       "      <td>nan</td>\n",
       "      <td>nan</td>\n",
       "      <td>nan</td>\n",
       "      <td>nan</td>\n",
       "      <td>nan</td>\n",
       "      <td>nan</td>\n",
       "      <td>nan</td>\n",
       "    </tr>\n",
       "  </tbody>\n",
       "</table>\n",
       "<p>5 rows × 24 columns</p>\n",
       "</div>"
      ],
      "text/plain": [
       "     city  year  weekofyear week_start_date  ndvi_ne  ndvi_nw  ndvi_se  \\\n",
       "139    sj  1993          53      1993-01-01      nan      nan      nan   \n",
       "451    sj  1999          53      1999-01-01      nan      nan      nan   \n",
       "763    sj  2005          53      2005-01-01      nan      nan      nan   \n",
       "1170   iq  2005          53      2005-01-01      nan      nan      nan   \n",
       "1430   iq  2010          53      2010-01-01      nan      nan      nan   \n",
       "\n",
       "      ndvi_sw  precipitation_amt_mm  reanalysis_air_temp_k        ...          \\\n",
       "139       nan                   nan                    nan        ...           \n",
       "451       nan                   nan                    nan        ...           \n",
       "763       nan                   nan                    nan        ...           \n",
       "1170      nan                   nan                    nan        ...           \n",
       "1430      nan                   nan                    nan        ...           \n",
       "\n",
       "      reanalysis_precip_amt_kg_per_m2  reanalysis_relative_humidity_percent  \\\n",
       "139                               nan                                   nan   \n",
       "451                               nan                                   nan   \n",
       "763                               nan                                   nan   \n",
       "1170                              nan                                   nan   \n",
       "1430                              nan                                   nan   \n",
       "\n",
       "      reanalysis_sat_precip_amt_mm  reanalysis_specific_humidity_g_per_kg  \\\n",
       "139                            nan                                    nan   \n",
       "451                            nan                                    nan   \n",
       "763                            nan                                    nan   \n",
       "1170                           nan                                    nan   \n",
       "1430                           nan                                    nan   \n",
       "\n",
       "      reanalysis_tdtr_k  station_avg_temp_c  station_diur_temp_rng_c  \\\n",
       "139                 nan                 nan                      nan   \n",
       "451                 nan                 nan                      nan   \n",
       "763                 nan                 nan                      nan   \n",
       "1170                nan                 nan                      nan   \n",
       "1430                nan                 nan                      nan   \n",
       "\n",
       "      station_max_temp_c  station_min_temp_c  station_precip_mm  \n",
       "139                  nan                 nan                nan  \n",
       "451                  nan                 nan                nan  \n",
       "763                  nan                 nan                nan  \n",
       "1170                 nan                 nan                nan  \n",
       "1430                 nan                 nan                nan  \n",
       "\n",
       "[5 rows x 24 columns]"
      ]
     },
     "execution_count": 169,
     "metadata": {},
     "output_type": "execute_result"
    }
   ],
   "source": [
    "climate_variables_dataframe[climate_variables_dataframe['weekofyear'] == 53]"
   ]
  },
  {
   "cell_type": "markdown",
   "metadata": {},
   "source": [
    "The data for both cities has a week number equal to  \"53\" which seems to improper. The data climate variables for those examples are all NaN's."
   ]
  },
  {
   "cell_type": "code",
   "execution_count": 170,
   "metadata": {},
   "outputs": [
    {
     "data": {
      "text/plain": [
       "True"
      ]
     },
     "execution_count": 170,
     "metadata": {},
     "output_type": "execute_result"
    }
   ],
   "source": [
    "labels_dataframe.shape == labels_dataframe.dropna().shape"
   ]
  },
  {
   "cell_type": "markdown",
   "metadata": {},
   "source": [
    "The labels of the training data do not contain any erroneous data,"
   ]
  },
  {
   "cell_type": "markdown",
   "metadata": {},
   "source": [
    "#### Removing missing values"
   ]
  },
  {
   "cell_type": "code",
   "execution_count": 171,
   "metadata": {},
   "outputs": [
    {
     "data": {
      "text/plain": [
       "(1199, 24)"
      ]
     },
     "execution_count": 171,
     "metadata": {},
     "output_type": "execute_result"
    }
   ],
   "source": [
    "climate_variables_dataframe_clean = climate_variables_dataframe.dropna()\n",
    "climate_variables_dataframe_clean.shape"
   ]
  },
  {
   "cell_type": "code",
   "execution_count": 172,
   "metadata": {},
   "outputs": [
    {
     "data": {
      "text/plain": [
       "(1199, 4)"
      ]
     },
     "execution_count": 172,
     "metadata": {},
     "output_type": "execute_result"
    }
   ],
   "source": [
    "labels_dataframe_clean = labels_dataframe.reindex(climate_variables_dataframe_clean.index)\n",
    "labels_dataframe_clean.shape"
   ]
  },
  {
   "cell_type": "markdown",
   "metadata": {},
   "source": [
    "### Correlation Analysis"
   ]
  },
  {
   "cell_type": "code",
   "execution_count": 173,
   "metadata": {},
   "outputs": [
    {
     "data": {
      "text/html": [
       "<div>\n",
       "<style scoped>\n",
       "    .dataframe tbody tr th:only-of-type {\n",
       "        vertical-align: middle;\n",
       "    }\n",
       "\n",
       "    .dataframe tbody tr th {\n",
       "        vertical-align: top;\n",
       "    }\n",
       "\n",
       "    .dataframe thead th {\n",
       "        text-align: right;\n",
       "    }\n",
       "</style>\n",
       "<table border=\"1\" class=\"dataframe\">\n",
       "  <thead>\n",
       "    <tr style=\"text-align: right;\">\n",
       "      <th></th>\n",
       "      <th>ndvi_ne</th>\n",
       "      <th>ndvi_nw</th>\n",
       "      <th>ndvi_se</th>\n",
       "      <th>ndvi_sw</th>\n",
       "      <th>precipitation_amt_mm</th>\n",
       "      <th>reanalysis_air_temp_k</th>\n",
       "      <th>reanalysis_avg_temp_k</th>\n",
       "      <th>reanalysis_dew_point_temp_k</th>\n",
       "      <th>reanalysis_max_air_temp_k</th>\n",
       "      <th>reanalysis_min_air_temp_k</th>\n",
       "      <th>...</th>\n",
       "      <th>reanalysis_relative_humidity_percent</th>\n",
       "      <th>reanalysis_sat_precip_amt_mm</th>\n",
       "      <th>reanalysis_specific_humidity_g_per_kg</th>\n",
       "      <th>reanalysis_tdtr_k</th>\n",
       "      <th>station_avg_temp_c</th>\n",
       "      <th>station_diur_temp_rng_c</th>\n",
       "      <th>station_max_temp_c</th>\n",
       "      <th>station_min_temp_c</th>\n",
       "      <th>station_precip_mm</th>\n",
       "      <th>target</th>\n",
       "    </tr>\n",
       "  </thead>\n",
       "  <tbody>\n",
       "    <tr>\n",
       "      <th>ndvi_ne</th>\n",
       "      <td>1.00</td>\n",
       "      <td>0.85</td>\n",
       "      <td>0.61</td>\n",
       "      <td>0.66</td>\n",
       "      <td>0.21</td>\n",
       "      <td>-0.34</td>\n",
       "      <td>-0.04</td>\n",
       "      <td>0.06</td>\n",
       "      <td>0.63</td>\n",
       "      <td>-0.62</td>\n",
       "      <td>...</td>\n",
       "      <td>0.47</td>\n",
       "      <td>0.21</td>\n",
       "      <td>0.10</td>\n",
       "      <td>0.67</td>\n",
       "      <td>0.19</td>\n",
       "      <td>0.66</td>\n",
       "      <td>0.49</td>\n",
       "      <td>-0.31</td>\n",
       "      <td>0.25</td>\n",
       "      <td>-0.24</td>\n",
       "    </tr>\n",
       "    <tr>\n",
       "      <th>ndvi_nw</th>\n",
       "      <td>0.85</td>\n",
       "      <td>1.00</td>\n",
       "      <td>0.57</td>\n",
       "      <td>0.66</td>\n",
       "      <td>0.21</td>\n",
       "      <td>-0.32</td>\n",
       "      <td>-0.03</td>\n",
       "      <td>0.08</td>\n",
       "      <td>0.61</td>\n",
       "      <td>-0.59</td>\n",
       "      <td>...</td>\n",
       "      <td>0.46</td>\n",
       "      <td>0.21</td>\n",
       "      <td>0.12</td>\n",
       "      <td>0.65</td>\n",
       "      <td>0.20</td>\n",
       "      <td>0.66</td>\n",
       "      <td>0.50</td>\n",
       "      <td>-0.31</td>\n",
       "      <td>0.24</td>\n",
       "      <td>-0.21</td>\n",
       "    </tr>\n",
       "    <tr>\n",
       "      <th>ndvi_se</th>\n",
       "      <td>0.61</td>\n",
       "      <td>0.57</td>\n",
       "      <td>1.00</td>\n",
       "      <td>0.82</td>\n",
       "      <td>0.09</td>\n",
       "      <td>-0.16</td>\n",
       "      <td>0.06</td>\n",
       "      <td>0.01</td>\n",
       "      <td>0.48</td>\n",
       "      <td>-0.42</td>\n",
       "      <td>...</td>\n",
       "      <td>0.22</td>\n",
       "      <td>0.09</td>\n",
       "      <td>0.04</td>\n",
       "      <td>0.50</td>\n",
       "      <td>0.09</td>\n",
       "      <td>0.46</td>\n",
       "      <td>0.30</td>\n",
       "      <td>-0.26</td>\n",
       "      <td>0.15</td>\n",
       "      <td>-0.18</td>\n",
       "    </tr>\n",
       "    <tr>\n",
       "      <th>ndvi_sw</th>\n",
       "      <td>0.66</td>\n",
       "      <td>0.66</td>\n",
       "      <td>0.82</td>\n",
       "      <td>1.00</td>\n",
       "      <td>0.13</td>\n",
       "      <td>-0.23</td>\n",
       "      <td>0.03</td>\n",
       "      <td>0.03</td>\n",
       "      <td>0.55</td>\n",
       "      <td>-0.50</td>\n",
       "      <td>...</td>\n",
       "      <td>0.31</td>\n",
       "      <td>0.13</td>\n",
       "      <td>0.06</td>\n",
       "      <td>0.57</td>\n",
       "      <td>0.12</td>\n",
       "      <td>0.55</td>\n",
       "      <td>0.39</td>\n",
       "      <td>-0.30</td>\n",
       "      <td>0.18</td>\n",
       "      <td>-0.21</td>\n",
       "    </tr>\n",
       "    <tr>\n",
       "      <th>precipitation_amt_mm</th>\n",
       "      <td>0.21</td>\n",
       "      <td>0.21</td>\n",
       "      <td>0.09</td>\n",
       "      <td>0.13</td>\n",
       "      <td>1.00</td>\n",
       "      <td>-0.06</td>\n",
       "      <td>0.08</td>\n",
       "      <td>0.41</td>\n",
       "      <td>0.29</td>\n",
       "      <td>-0.15</td>\n",
       "      <td>...</td>\n",
       "      <td>0.50</td>\n",
       "      <td>1.00</td>\n",
       "      <td>0.43</td>\n",
       "      <td>0.22</td>\n",
       "      <td>0.22</td>\n",
       "      <td>0.21</td>\n",
       "      <td>0.30</td>\n",
       "      <td>0.05</td>\n",
       "      <td>0.46</td>\n",
       "      <td>-0.04</td>\n",
       "    </tr>\n",
       "    <tr>\n",
       "      <th>reanalysis_air_temp_k</th>\n",
       "      <td>-0.34</td>\n",
       "      <td>-0.32</td>\n",
       "      <td>-0.16</td>\n",
       "      <td>-0.23</td>\n",
       "      <td>-0.06</td>\n",
       "      <td>1.00</td>\n",
       "      <td>0.90</td>\n",
       "      <td>0.50</td>\n",
       "      <td>-0.02</td>\n",
       "      <td>0.73</td>\n",
       "      <td>...</td>\n",
       "      <td>-0.44</td>\n",
       "      <td>-0.06</td>\n",
       "      <td>0.48</td>\n",
       "      <td>-0.28</td>\n",
       "      <td>0.60</td>\n",
       "      <td>-0.27</td>\n",
       "      <td>0.20</td>\n",
       "      <td>0.71</td>\n",
       "      <td>-0.20</td>\n",
       "      <td>0.34</td>\n",
       "    </tr>\n",
       "    <tr>\n",
       "      <th>reanalysis_avg_temp_k</th>\n",
       "      <td>-0.04</td>\n",
       "      <td>-0.03</td>\n",
       "      <td>0.06</td>\n",
       "      <td>0.03</td>\n",
       "      <td>0.08</td>\n",
       "      <td>0.90</td>\n",
       "      <td>1.00</td>\n",
       "      <td>0.59</td>\n",
       "      <td>0.39</td>\n",
       "      <td>0.43</td>\n",
       "      <td>...</td>\n",
       "      <td>-0.19</td>\n",
       "      <td>0.08</td>\n",
       "      <td>0.59</td>\n",
       "      <td>0.13</td>\n",
       "      <td>0.73</td>\n",
       "      <td>0.11</td>\n",
       "      <td>0.49</td>\n",
       "      <td>0.56</td>\n",
       "      <td>-0.07</td>\n",
       "      <td>0.19</td>\n",
       "    </tr>\n",
       "    <tr>\n",
       "      <th>reanalysis_dew_point_temp_k</th>\n",
       "      <td>0.06</td>\n",
       "      <td>0.08</td>\n",
       "      <td>0.01</td>\n",
       "      <td>0.03</td>\n",
       "      <td>0.41</td>\n",
       "      <td>0.50</td>\n",
       "      <td>0.59</td>\n",
       "      <td>1.00</td>\n",
       "      <td>0.25</td>\n",
       "      <td>0.34</td>\n",
       "      <td>...</td>\n",
       "      <td>0.55</td>\n",
       "      <td>0.41</td>\n",
       "      <td>1.00</td>\n",
       "      <td>-0.02</td>\n",
       "      <td>0.72</td>\n",
       "      <td>0.04</td>\n",
       "      <td>0.48</td>\n",
       "      <td>0.63</td>\n",
       "      <td>0.23</td>\n",
       "      <td>0.18</td>\n",
       "    </tr>\n",
       "    <tr>\n",
       "      <th>reanalysis_max_air_temp_k</th>\n",
       "      <td>0.63</td>\n",
       "      <td>0.61</td>\n",
       "      <td>0.48</td>\n",
       "      <td>0.55</td>\n",
       "      <td>0.29</td>\n",
       "      <td>-0.02</td>\n",
       "      <td>0.39</td>\n",
       "      <td>0.25</td>\n",
       "      <td>1.00</td>\n",
       "      <td>-0.61</td>\n",
       "      <td>...</td>\n",
       "      <td>0.40</td>\n",
       "      <td>0.29</td>\n",
       "      <td>0.29</td>\n",
       "      <td>0.92</td>\n",
       "      <td>0.45</td>\n",
       "      <td>0.84</td>\n",
       "      <td>0.77</td>\n",
       "      <td>-0.22</td>\n",
       "      <td>0.25</td>\n",
       "      <td>-0.24</td>\n",
       "    </tr>\n",
       "    <tr>\n",
       "      <th>reanalysis_min_air_temp_k</th>\n",
       "      <td>-0.62</td>\n",
       "      <td>-0.59</td>\n",
       "      <td>-0.42</td>\n",
       "      <td>-0.50</td>\n",
       "      <td>-0.15</td>\n",
       "      <td>0.73</td>\n",
       "      <td>0.43</td>\n",
       "      <td>0.34</td>\n",
       "      <td>-0.61</td>\n",
       "      <td>1.00</td>\n",
       "      <td>...</td>\n",
       "      <td>-0.43</td>\n",
       "      <td>-0.15</td>\n",
       "      <td>0.30</td>\n",
       "      <td>-0.82</td>\n",
       "      <td>0.20</td>\n",
       "      <td>-0.72</td>\n",
       "      <td>-0.30</td>\n",
       "      <td>0.72</td>\n",
       "      <td>-0.26</td>\n",
       "      <td>0.40</td>\n",
       "    </tr>\n",
       "    <tr>\n",
       "      <th>reanalysis_precip_amt_kg_per_m2</th>\n",
       "      <td>0.20</td>\n",
       "      <td>0.20</td>\n",
       "      <td>0.03</td>\n",
       "      <td>0.10</td>\n",
       "      <td>0.45</td>\n",
       "      <td>-0.16</td>\n",
       "      <td>-0.05</td>\n",
       "      <td>0.43</td>\n",
       "      <td>0.20</td>\n",
       "      <td>-0.12</td>\n",
       "      <td>...</td>\n",
       "      <td>0.60</td>\n",
       "      <td>0.45</td>\n",
       "      <td>0.45</td>\n",
       "      <td>0.10</td>\n",
       "      <td>0.15</td>\n",
       "      <td>0.15</td>\n",
       "      <td>0.20</td>\n",
       "      <td>0.04</td>\n",
       "      <td>0.32</td>\n",
       "      <td>-0.02</td>\n",
       "    </tr>\n",
       "    <tr>\n",
       "      <th>reanalysis_relative_humidity_percent</th>\n",
       "      <td>0.47</td>\n",
       "      <td>0.46</td>\n",
       "      <td>0.22</td>\n",
       "      <td>0.31</td>\n",
       "      <td>0.50</td>\n",
       "      <td>-0.44</td>\n",
       "      <td>-0.19</td>\n",
       "      <td>0.55</td>\n",
       "      <td>0.40</td>\n",
       "      <td>-0.43</td>\n",
       "      <td>...</td>\n",
       "      <td>1.00</td>\n",
       "      <td>0.50</td>\n",
       "      <td>0.58</td>\n",
       "      <td>0.37</td>\n",
       "      <td>0.22</td>\n",
       "      <td>0.41</td>\n",
       "      <td>0.40</td>\n",
       "      <td>-0.07</td>\n",
       "      <td>0.45</td>\n",
       "      <td>-0.17</td>\n",
       "    </tr>\n",
       "    <tr>\n",
       "      <th>reanalysis_sat_precip_amt_mm</th>\n",
       "      <td>0.21</td>\n",
       "      <td>0.21</td>\n",
       "      <td>0.09</td>\n",
       "      <td>0.13</td>\n",
       "      <td>1.00</td>\n",
       "      <td>-0.06</td>\n",
       "      <td>0.08</td>\n",
       "      <td>0.41</td>\n",
       "      <td>0.29</td>\n",
       "      <td>-0.15</td>\n",
       "      <td>...</td>\n",
       "      <td>0.50</td>\n",
       "      <td>1.00</td>\n",
       "      <td>0.43</td>\n",
       "      <td>0.22</td>\n",
       "      <td>0.22</td>\n",
       "      <td>0.21</td>\n",
       "      <td>0.30</td>\n",
       "      <td>0.05</td>\n",
       "      <td>0.46</td>\n",
       "      <td>-0.04</td>\n",
       "    </tr>\n",
       "    <tr>\n",
       "      <th>reanalysis_specific_humidity_g_per_kg</th>\n",
       "      <td>0.10</td>\n",
       "      <td>0.12</td>\n",
       "      <td>0.04</td>\n",
       "      <td>0.06</td>\n",
       "      <td>0.43</td>\n",
       "      <td>0.48</td>\n",
       "      <td>0.59</td>\n",
       "      <td>1.00</td>\n",
       "      <td>0.29</td>\n",
       "      <td>0.30</td>\n",
       "      <td>...</td>\n",
       "      <td>0.58</td>\n",
       "      <td>0.43</td>\n",
       "      <td>1.00</td>\n",
       "      <td>0.03</td>\n",
       "      <td>0.73</td>\n",
       "      <td>0.08</td>\n",
       "      <td>0.51</td>\n",
       "      <td>0.60</td>\n",
       "      <td>0.25</td>\n",
       "      <td>0.17</td>\n",
       "    </tr>\n",
       "    <tr>\n",
       "      <th>reanalysis_tdtr_k</th>\n",
       "      <td>0.67</td>\n",
       "      <td>0.65</td>\n",
       "      <td>0.50</td>\n",
       "      <td>0.57</td>\n",
       "      <td>0.22</td>\n",
       "      <td>-0.28</td>\n",
       "      <td>0.13</td>\n",
       "      <td>-0.02</td>\n",
       "      <td>0.92</td>\n",
       "      <td>-0.82</td>\n",
       "      <td>...</td>\n",
       "      <td>0.37</td>\n",
       "      <td>0.22</td>\n",
       "      <td>0.03</td>\n",
       "      <td>1.00</td>\n",
       "      <td>0.22</td>\n",
       "      <td>0.88</td>\n",
       "      <td>0.63</td>\n",
       "      <td>-0.46</td>\n",
       "      <td>0.24</td>\n",
       "      <td>-0.34</td>\n",
       "    </tr>\n",
       "    <tr>\n",
       "      <th>station_avg_temp_c</th>\n",
       "      <td>0.19</td>\n",
       "      <td>0.20</td>\n",
       "      <td>0.09</td>\n",
       "      <td>0.12</td>\n",
       "      <td>0.22</td>\n",
       "      <td>0.60</td>\n",
       "      <td>0.73</td>\n",
       "      <td>0.72</td>\n",
       "      <td>0.45</td>\n",
       "      <td>0.20</td>\n",
       "      <td>...</td>\n",
       "      <td>0.22</td>\n",
       "      <td>0.22</td>\n",
       "      <td>0.73</td>\n",
       "      <td>0.22</td>\n",
       "      <td>1.00</td>\n",
       "      <td>0.31</td>\n",
       "      <td>0.75</td>\n",
       "      <td>0.61</td>\n",
       "      <td>0.06</td>\n",
       "      <td>0.12</td>\n",
       "    </tr>\n",
       "    <tr>\n",
       "      <th>station_diur_temp_rng_c</th>\n",
       "      <td>0.66</td>\n",
       "      <td>0.66</td>\n",
       "      <td>0.46</td>\n",
       "      <td>0.55</td>\n",
       "      <td>0.21</td>\n",
       "      <td>-0.27</td>\n",
       "      <td>0.11</td>\n",
       "      <td>0.04</td>\n",
       "      <td>0.84</td>\n",
       "      <td>-0.72</td>\n",
       "      <td>...</td>\n",
       "      <td>0.41</td>\n",
       "      <td>0.21</td>\n",
       "      <td>0.08</td>\n",
       "      <td>0.88</td>\n",
       "      <td>0.31</td>\n",
       "      <td>1.00</td>\n",
       "      <td>0.73</td>\n",
       "      <td>-0.45</td>\n",
       "      <td>0.19</td>\n",
       "      <td>-0.31</td>\n",
       "    </tr>\n",
       "    <tr>\n",
       "      <th>station_max_temp_c</th>\n",
       "      <td>0.49</td>\n",
       "      <td>0.50</td>\n",
       "      <td>0.30</td>\n",
       "      <td>0.39</td>\n",
       "      <td>0.30</td>\n",
       "      <td>0.20</td>\n",
       "      <td>0.49</td>\n",
       "      <td>0.48</td>\n",
       "      <td>0.77</td>\n",
       "      <td>-0.30</td>\n",
       "      <td>...</td>\n",
       "      <td>0.40</td>\n",
       "      <td>0.30</td>\n",
       "      <td>0.51</td>\n",
       "      <td>0.63</td>\n",
       "      <td>0.75</td>\n",
       "      <td>0.73</td>\n",
       "      <td>1.00</td>\n",
       "      <td>0.11</td>\n",
       "      <td>0.18</td>\n",
       "      <td>-0.11</td>\n",
       "    </tr>\n",
       "    <tr>\n",
       "      <th>station_min_temp_c</th>\n",
       "      <td>-0.31</td>\n",
       "      <td>-0.31</td>\n",
       "      <td>-0.26</td>\n",
       "      <td>-0.30</td>\n",
       "      <td>0.05</td>\n",
       "      <td>0.71</td>\n",
       "      <td>0.56</td>\n",
       "      <td>0.63</td>\n",
       "      <td>-0.22</td>\n",
       "      <td>0.72</td>\n",
       "      <td>...</td>\n",
       "      <td>-0.07</td>\n",
       "      <td>0.05</td>\n",
       "      <td>0.60</td>\n",
       "      <td>-0.46</td>\n",
       "      <td>0.61</td>\n",
       "      <td>-0.45</td>\n",
       "      <td>0.11</td>\n",
       "      <td>1.00</td>\n",
       "      <td>-0.06</td>\n",
       "      <td>0.33</td>\n",
       "    </tr>\n",
       "    <tr>\n",
       "      <th>station_precip_mm</th>\n",
       "      <td>0.25</td>\n",
       "      <td>0.24</td>\n",
       "      <td>0.15</td>\n",
       "      <td>0.18</td>\n",
       "      <td>0.46</td>\n",
       "      <td>-0.20</td>\n",
       "      <td>-0.07</td>\n",
       "      <td>0.23</td>\n",
       "      <td>0.25</td>\n",
       "      <td>-0.26</td>\n",
       "      <td>...</td>\n",
       "      <td>0.45</td>\n",
       "      <td>0.46</td>\n",
       "      <td>0.25</td>\n",
       "      <td>0.24</td>\n",
       "      <td>0.06</td>\n",
       "      <td>0.19</td>\n",
       "      <td>0.18</td>\n",
       "      <td>-0.06</td>\n",
       "      <td>1.00</td>\n",
       "      <td>-0.10</td>\n",
       "    </tr>\n",
       "    <tr>\n",
       "      <th>target</th>\n",
       "      <td>-0.24</td>\n",
       "      <td>-0.21</td>\n",
       "      <td>-0.18</td>\n",
       "      <td>-0.21</td>\n",
       "      <td>-0.04</td>\n",
       "      <td>0.34</td>\n",
       "      <td>0.19</td>\n",
       "      <td>0.18</td>\n",
       "      <td>-0.24</td>\n",
       "      <td>0.40</td>\n",
       "      <td>...</td>\n",
       "      <td>-0.17</td>\n",
       "      <td>-0.04</td>\n",
       "      <td>0.17</td>\n",
       "      <td>-0.34</td>\n",
       "      <td>0.12</td>\n",
       "      <td>-0.31</td>\n",
       "      <td>-0.11</td>\n",
       "      <td>0.33</td>\n",
       "      <td>-0.10</td>\n",
       "      <td>1.00</td>\n",
       "    </tr>\n",
       "  </tbody>\n",
       "</table>\n",
       "<p>21 rows × 21 columns</p>\n",
       "</div>"
      ],
      "text/plain": [
       "                                       ndvi_ne  ndvi_nw  ndvi_se  ndvi_sw  \\\n",
       "ndvi_ne                                   1.00     0.85     0.61     0.66   \n",
       "ndvi_nw                                   0.85     1.00     0.57     0.66   \n",
       "ndvi_se                                   0.61     0.57     1.00     0.82   \n",
       "ndvi_sw                                   0.66     0.66     0.82     1.00   \n",
       "precipitation_amt_mm                      0.21     0.21     0.09     0.13   \n",
       "reanalysis_air_temp_k                    -0.34    -0.32    -0.16    -0.23   \n",
       "reanalysis_avg_temp_k                    -0.04    -0.03     0.06     0.03   \n",
       "reanalysis_dew_point_temp_k               0.06     0.08     0.01     0.03   \n",
       "reanalysis_max_air_temp_k                 0.63     0.61     0.48     0.55   \n",
       "reanalysis_min_air_temp_k                -0.62    -0.59    -0.42    -0.50   \n",
       "reanalysis_precip_amt_kg_per_m2           0.20     0.20     0.03     0.10   \n",
       "reanalysis_relative_humidity_percent      0.47     0.46     0.22     0.31   \n",
       "reanalysis_sat_precip_amt_mm              0.21     0.21     0.09     0.13   \n",
       "reanalysis_specific_humidity_g_per_kg     0.10     0.12     0.04     0.06   \n",
       "reanalysis_tdtr_k                         0.67     0.65     0.50     0.57   \n",
       "station_avg_temp_c                        0.19     0.20     0.09     0.12   \n",
       "station_diur_temp_rng_c                   0.66     0.66     0.46     0.55   \n",
       "station_max_temp_c                        0.49     0.50     0.30     0.39   \n",
       "station_min_temp_c                       -0.31    -0.31    -0.26    -0.30   \n",
       "station_precip_mm                         0.25     0.24     0.15     0.18   \n",
       "target                                   -0.24    -0.21    -0.18    -0.21   \n",
       "\n",
       "                                       precipitation_amt_mm  \\\n",
       "ndvi_ne                                                0.21   \n",
       "ndvi_nw                                                0.21   \n",
       "ndvi_se                                                0.09   \n",
       "ndvi_sw                                                0.13   \n",
       "precipitation_amt_mm                                   1.00   \n",
       "reanalysis_air_temp_k                                 -0.06   \n",
       "reanalysis_avg_temp_k                                  0.08   \n",
       "reanalysis_dew_point_temp_k                            0.41   \n",
       "reanalysis_max_air_temp_k                              0.29   \n",
       "reanalysis_min_air_temp_k                             -0.15   \n",
       "reanalysis_precip_amt_kg_per_m2                        0.45   \n",
       "reanalysis_relative_humidity_percent                   0.50   \n",
       "reanalysis_sat_precip_amt_mm                           1.00   \n",
       "reanalysis_specific_humidity_g_per_kg                  0.43   \n",
       "reanalysis_tdtr_k                                      0.22   \n",
       "station_avg_temp_c                                     0.22   \n",
       "station_diur_temp_rng_c                                0.21   \n",
       "station_max_temp_c                                     0.30   \n",
       "station_min_temp_c                                     0.05   \n",
       "station_precip_mm                                      0.46   \n",
       "target                                                -0.04   \n",
       "\n",
       "                                       reanalysis_air_temp_k  \\\n",
       "ndvi_ne                                                -0.34   \n",
       "ndvi_nw                                                -0.32   \n",
       "ndvi_se                                                -0.16   \n",
       "ndvi_sw                                                -0.23   \n",
       "precipitation_amt_mm                                   -0.06   \n",
       "reanalysis_air_temp_k                                   1.00   \n",
       "reanalysis_avg_temp_k                                   0.90   \n",
       "reanalysis_dew_point_temp_k                             0.50   \n",
       "reanalysis_max_air_temp_k                              -0.02   \n",
       "reanalysis_min_air_temp_k                               0.73   \n",
       "reanalysis_precip_amt_kg_per_m2                        -0.16   \n",
       "reanalysis_relative_humidity_percent                   -0.44   \n",
       "reanalysis_sat_precip_amt_mm                           -0.06   \n",
       "reanalysis_specific_humidity_g_per_kg                   0.48   \n",
       "reanalysis_tdtr_k                                      -0.28   \n",
       "station_avg_temp_c                                      0.60   \n",
       "station_diur_temp_rng_c                                -0.27   \n",
       "station_max_temp_c                                      0.20   \n",
       "station_min_temp_c                                      0.71   \n",
       "station_precip_mm                                      -0.20   \n",
       "target                                                  0.34   \n",
       "\n",
       "                                       reanalysis_avg_temp_k  \\\n",
       "ndvi_ne                                                -0.04   \n",
       "ndvi_nw                                                -0.03   \n",
       "ndvi_se                                                 0.06   \n",
       "ndvi_sw                                                 0.03   \n",
       "precipitation_amt_mm                                    0.08   \n",
       "reanalysis_air_temp_k                                   0.90   \n",
       "reanalysis_avg_temp_k                                   1.00   \n",
       "reanalysis_dew_point_temp_k                             0.59   \n",
       "reanalysis_max_air_temp_k                               0.39   \n",
       "reanalysis_min_air_temp_k                               0.43   \n",
       "reanalysis_precip_amt_kg_per_m2                        -0.05   \n",
       "reanalysis_relative_humidity_percent                   -0.19   \n",
       "reanalysis_sat_precip_amt_mm                            0.08   \n",
       "reanalysis_specific_humidity_g_per_kg                   0.59   \n",
       "reanalysis_tdtr_k                                       0.13   \n",
       "station_avg_temp_c                                      0.73   \n",
       "station_diur_temp_rng_c                                 0.11   \n",
       "station_max_temp_c                                      0.49   \n",
       "station_min_temp_c                                      0.56   \n",
       "station_precip_mm                                      -0.07   \n",
       "target                                                  0.19   \n",
       "\n",
       "                                       reanalysis_dew_point_temp_k  \\\n",
       "ndvi_ne                                                       0.06   \n",
       "ndvi_nw                                                       0.08   \n",
       "ndvi_se                                                       0.01   \n",
       "ndvi_sw                                                       0.03   \n",
       "precipitation_amt_mm                                          0.41   \n",
       "reanalysis_air_temp_k                                         0.50   \n",
       "reanalysis_avg_temp_k                                         0.59   \n",
       "reanalysis_dew_point_temp_k                                   1.00   \n",
       "reanalysis_max_air_temp_k                                     0.25   \n",
       "reanalysis_min_air_temp_k                                     0.34   \n",
       "reanalysis_precip_amt_kg_per_m2                               0.43   \n",
       "reanalysis_relative_humidity_percent                          0.55   \n",
       "reanalysis_sat_precip_amt_mm                                  0.41   \n",
       "reanalysis_specific_humidity_g_per_kg                         1.00   \n",
       "reanalysis_tdtr_k                                            -0.02   \n",
       "station_avg_temp_c                                            0.72   \n",
       "station_diur_temp_rng_c                                       0.04   \n",
       "station_max_temp_c                                            0.48   \n",
       "station_min_temp_c                                            0.63   \n",
       "station_precip_mm                                             0.23   \n",
       "target                                                        0.18   \n",
       "\n",
       "                                       reanalysis_max_air_temp_k  \\\n",
       "ndvi_ne                                                     0.63   \n",
       "ndvi_nw                                                     0.61   \n",
       "ndvi_se                                                     0.48   \n",
       "ndvi_sw                                                     0.55   \n",
       "precipitation_amt_mm                                        0.29   \n",
       "reanalysis_air_temp_k                                      -0.02   \n",
       "reanalysis_avg_temp_k                                       0.39   \n",
       "reanalysis_dew_point_temp_k                                 0.25   \n",
       "reanalysis_max_air_temp_k                                   1.00   \n",
       "reanalysis_min_air_temp_k                                  -0.61   \n",
       "reanalysis_precip_amt_kg_per_m2                             0.20   \n",
       "reanalysis_relative_humidity_percent                        0.40   \n",
       "reanalysis_sat_precip_amt_mm                                0.29   \n",
       "reanalysis_specific_humidity_g_per_kg                       0.29   \n",
       "reanalysis_tdtr_k                                           0.92   \n",
       "station_avg_temp_c                                          0.45   \n",
       "station_diur_temp_rng_c                                     0.84   \n",
       "station_max_temp_c                                          0.77   \n",
       "station_min_temp_c                                         -0.22   \n",
       "station_precip_mm                                           0.25   \n",
       "target                                                     -0.24   \n",
       "\n",
       "                                       reanalysis_min_air_temp_k   ...    \\\n",
       "ndvi_ne                                                    -0.62   ...     \n",
       "ndvi_nw                                                    -0.59   ...     \n",
       "ndvi_se                                                    -0.42   ...     \n",
       "ndvi_sw                                                    -0.50   ...     \n",
       "precipitation_amt_mm                                       -0.15   ...     \n",
       "reanalysis_air_temp_k                                       0.73   ...     \n",
       "reanalysis_avg_temp_k                                       0.43   ...     \n",
       "reanalysis_dew_point_temp_k                                 0.34   ...     \n",
       "reanalysis_max_air_temp_k                                  -0.61   ...     \n",
       "reanalysis_min_air_temp_k                                   1.00   ...     \n",
       "reanalysis_precip_amt_kg_per_m2                            -0.12   ...     \n",
       "reanalysis_relative_humidity_percent                       -0.43   ...     \n",
       "reanalysis_sat_precip_amt_mm                               -0.15   ...     \n",
       "reanalysis_specific_humidity_g_per_kg                       0.30   ...     \n",
       "reanalysis_tdtr_k                                          -0.82   ...     \n",
       "station_avg_temp_c                                          0.20   ...     \n",
       "station_diur_temp_rng_c                                    -0.72   ...     \n",
       "station_max_temp_c                                         -0.30   ...     \n",
       "station_min_temp_c                                          0.72   ...     \n",
       "station_precip_mm                                          -0.26   ...     \n",
       "target                                                      0.40   ...     \n",
       "\n",
       "                                       reanalysis_relative_humidity_percent  \\\n",
       "ndvi_ne                                                                0.47   \n",
       "ndvi_nw                                                                0.46   \n",
       "ndvi_se                                                                0.22   \n",
       "ndvi_sw                                                                0.31   \n",
       "precipitation_amt_mm                                                   0.50   \n",
       "reanalysis_air_temp_k                                                 -0.44   \n",
       "reanalysis_avg_temp_k                                                 -0.19   \n",
       "reanalysis_dew_point_temp_k                                            0.55   \n",
       "reanalysis_max_air_temp_k                                              0.40   \n",
       "reanalysis_min_air_temp_k                                             -0.43   \n",
       "reanalysis_precip_amt_kg_per_m2                                        0.60   \n",
       "reanalysis_relative_humidity_percent                                   1.00   \n",
       "reanalysis_sat_precip_amt_mm                                           0.50   \n",
       "reanalysis_specific_humidity_g_per_kg                                  0.58   \n",
       "reanalysis_tdtr_k                                                      0.37   \n",
       "station_avg_temp_c                                                     0.22   \n",
       "station_diur_temp_rng_c                                                0.41   \n",
       "station_max_temp_c                                                     0.40   \n",
       "station_min_temp_c                                                    -0.07   \n",
       "station_precip_mm                                                      0.45   \n",
       "target                                                                -0.17   \n",
       "\n",
       "                                       reanalysis_sat_precip_amt_mm  \\\n",
       "ndvi_ne                                                        0.21   \n",
       "ndvi_nw                                                        0.21   \n",
       "ndvi_se                                                        0.09   \n",
       "ndvi_sw                                                        0.13   \n",
       "precipitation_amt_mm                                           1.00   \n",
       "reanalysis_air_temp_k                                         -0.06   \n",
       "reanalysis_avg_temp_k                                          0.08   \n",
       "reanalysis_dew_point_temp_k                                    0.41   \n",
       "reanalysis_max_air_temp_k                                      0.29   \n",
       "reanalysis_min_air_temp_k                                     -0.15   \n",
       "reanalysis_precip_amt_kg_per_m2                                0.45   \n",
       "reanalysis_relative_humidity_percent                           0.50   \n",
       "reanalysis_sat_precip_amt_mm                                   1.00   \n",
       "reanalysis_specific_humidity_g_per_kg                          0.43   \n",
       "reanalysis_tdtr_k                                              0.22   \n",
       "station_avg_temp_c                                             0.22   \n",
       "station_diur_temp_rng_c                                        0.21   \n",
       "station_max_temp_c                                             0.30   \n",
       "station_min_temp_c                                             0.05   \n",
       "station_precip_mm                                              0.46   \n",
       "target                                                        -0.04   \n",
       "\n",
       "                                       reanalysis_specific_humidity_g_per_kg  \\\n",
       "ndvi_ne                                                                 0.10   \n",
       "ndvi_nw                                                                 0.12   \n",
       "ndvi_se                                                                 0.04   \n",
       "ndvi_sw                                                                 0.06   \n",
       "precipitation_amt_mm                                                    0.43   \n",
       "reanalysis_air_temp_k                                                   0.48   \n",
       "reanalysis_avg_temp_k                                                   0.59   \n",
       "reanalysis_dew_point_temp_k                                             1.00   \n",
       "reanalysis_max_air_temp_k                                               0.29   \n",
       "reanalysis_min_air_temp_k                                               0.30   \n",
       "reanalysis_precip_amt_kg_per_m2                                         0.45   \n",
       "reanalysis_relative_humidity_percent                                    0.58   \n",
       "reanalysis_sat_precip_amt_mm                                            0.43   \n",
       "reanalysis_specific_humidity_g_per_kg                                   1.00   \n",
       "reanalysis_tdtr_k                                                       0.03   \n",
       "station_avg_temp_c                                                      0.73   \n",
       "station_diur_temp_rng_c                                                 0.08   \n",
       "station_max_temp_c                                                      0.51   \n",
       "station_min_temp_c                                                      0.60   \n",
       "station_precip_mm                                                       0.25   \n",
       "target                                                                  0.17   \n",
       "\n",
       "                                       reanalysis_tdtr_k  station_avg_temp_c  \\\n",
       "ndvi_ne                                             0.67                0.19   \n",
       "ndvi_nw                                             0.65                0.20   \n",
       "ndvi_se                                             0.50                0.09   \n",
       "ndvi_sw                                             0.57                0.12   \n",
       "precipitation_amt_mm                                0.22                0.22   \n",
       "reanalysis_air_temp_k                              -0.28                0.60   \n",
       "reanalysis_avg_temp_k                               0.13                0.73   \n",
       "reanalysis_dew_point_temp_k                        -0.02                0.72   \n",
       "reanalysis_max_air_temp_k                           0.92                0.45   \n",
       "reanalysis_min_air_temp_k                          -0.82                0.20   \n",
       "reanalysis_precip_amt_kg_per_m2                     0.10                0.15   \n",
       "reanalysis_relative_humidity_percent                0.37                0.22   \n",
       "reanalysis_sat_precip_amt_mm                        0.22                0.22   \n",
       "reanalysis_specific_humidity_g_per_kg               0.03                0.73   \n",
       "reanalysis_tdtr_k                                   1.00                0.22   \n",
       "station_avg_temp_c                                  0.22                1.00   \n",
       "station_diur_temp_rng_c                             0.88                0.31   \n",
       "station_max_temp_c                                  0.63                0.75   \n",
       "station_min_temp_c                                 -0.46                0.61   \n",
       "station_precip_mm                                   0.24                0.06   \n",
       "target                                             -0.34                0.12   \n",
       "\n",
       "                                       station_diur_temp_rng_c  \\\n",
       "ndvi_ne                                                   0.66   \n",
       "ndvi_nw                                                   0.66   \n",
       "ndvi_se                                                   0.46   \n",
       "ndvi_sw                                                   0.55   \n",
       "precipitation_amt_mm                                      0.21   \n",
       "reanalysis_air_temp_k                                    -0.27   \n",
       "reanalysis_avg_temp_k                                     0.11   \n",
       "reanalysis_dew_point_temp_k                               0.04   \n",
       "reanalysis_max_air_temp_k                                 0.84   \n",
       "reanalysis_min_air_temp_k                                -0.72   \n",
       "reanalysis_precip_amt_kg_per_m2                           0.15   \n",
       "reanalysis_relative_humidity_percent                      0.41   \n",
       "reanalysis_sat_precip_amt_mm                              0.21   \n",
       "reanalysis_specific_humidity_g_per_kg                     0.08   \n",
       "reanalysis_tdtr_k                                         0.88   \n",
       "station_avg_temp_c                                        0.31   \n",
       "station_diur_temp_rng_c                                   1.00   \n",
       "station_max_temp_c                                        0.73   \n",
       "station_min_temp_c                                       -0.45   \n",
       "station_precip_mm                                         0.19   \n",
       "target                                                   -0.31   \n",
       "\n",
       "                                       station_max_temp_c  station_min_temp_c  \\\n",
       "ndvi_ne                                              0.49               -0.31   \n",
       "ndvi_nw                                              0.50               -0.31   \n",
       "ndvi_se                                              0.30               -0.26   \n",
       "ndvi_sw                                              0.39               -0.30   \n",
       "precipitation_amt_mm                                 0.30                0.05   \n",
       "reanalysis_air_temp_k                                0.20                0.71   \n",
       "reanalysis_avg_temp_k                                0.49                0.56   \n",
       "reanalysis_dew_point_temp_k                          0.48                0.63   \n",
       "reanalysis_max_air_temp_k                            0.77               -0.22   \n",
       "reanalysis_min_air_temp_k                           -0.30                0.72   \n",
       "reanalysis_precip_amt_kg_per_m2                      0.20                0.04   \n",
       "reanalysis_relative_humidity_percent                 0.40               -0.07   \n",
       "reanalysis_sat_precip_amt_mm                         0.30                0.05   \n",
       "reanalysis_specific_humidity_g_per_kg                0.51                0.60   \n",
       "reanalysis_tdtr_k                                    0.63               -0.46   \n",
       "station_avg_temp_c                                   0.75                0.61   \n",
       "station_diur_temp_rng_c                              0.73               -0.45   \n",
       "station_max_temp_c                                   1.00                0.11   \n",
       "station_min_temp_c                                   0.11                1.00   \n",
       "station_precip_mm                                    0.18               -0.06   \n",
       "target                                              -0.11                0.33   \n",
       "\n",
       "                                       station_precip_mm  target  \n",
       "ndvi_ne                                             0.25   -0.24  \n",
       "ndvi_nw                                             0.24   -0.21  \n",
       "ndvi_se                                             0.15   -0.18  \n",
       "ndvi_sw                                             0.18   -0.21  \n",
       "precipitation_amt_mm                                0.46   -0.04  \n",
       "reanalysis_air_temp_k                              -0.20    0.34  \n",
       "reanalysis_avg_temp_k                              -0.07    0.19  \n",
       "reanalysis_dew_point_temp_k                         0.23    0.18  \n",
       "reanalysis_max_air_temp_k                           0.25   -0.24  \n",
       "reanalysis_min_air_temp_k                          -0.26    0.40  \n",
       "reanalysis_precip_amt_kg_per_m2                     0.32   -0.02  \n",
       "reanalysis_relative_humidity_percent                0.45   -0.17  \n",
       "reanalysis_sat_precip_amt_mm                        0.46   -0.04  \n",
       "reanalysis_specific_humidity_g_per_kg               0.25    0.17  \n",
       "reanalysis_tdtr_k                                   0.24   -0.34  \n",
       "station_avg_temp_c                                  0.06    0.12  \n",
       "station_diur_temp_rng_c                             0.19   -0.31  \n",
       "station_max_temp_c                                  0.18   -0.11  \n",
       "station_min_temp_c                                 -0.06    0.33  \n",
       "station_precip_mm                                   1.00   -0.10  \n",
       "target                                             -0.10    1.00  \n",
       "\n",
       "[21 rows x 21 columns]"
      ]
     },
     "execution_count": 173,
     "metadata": {},
     "output_type": "execute_result"
    }
   ],
   "source": [
    "correlation_dataframe = climate_variables_dataframe_clean.copy()\n",
    "correlation_dataframe = correlation_dataframe.drop(columns=['year', 'weekofyear'])\n",
    "correlation_dataframe['target'] = labels_dataframe_clean['total_cases']\n",
    "\n",
    "correlation_dataframe.corr()"
   ]
  },
  {
   "cell_type": "markdown",
   "metadata": {},
   "source": [
    "- temperature variables have the largest correlation to the target\n",
    "- ndvi's are highly correlated to each other which is reasonable considering they represents plots of land close to each other\n",
    "- ndvi's are also correlated with min(negatively)/max/diur temp variables, a seem to not be correlated with avg temp and barely with precipitation\n",
    "- precipitation_amt_mm and reanalysis_sat_precip_amt_mm are perfectly positively correlated with each other. Different feature name for the same feature?\n",
    "- reanalysis_air_temp_k and reanalysis_avg_temp_k highly correlated with each other in the 0.9 - 1 range\n",
    "- reanalysis_specific_humidity_g_per_kg perfect correlation with reanalysis_dew_point_temp_k, as a higher dew point means there will be more moisture in the air\n",
    "- min/max and diurnal temperature ranges are correlated through the former being variables in the calculation of the latter\n",
    "- features measuring similar values, temp, precipitation are closely correlated to each other"
   ]
  },
  {
   "cell_type": "code",
   "execution_count": 174,
   "metadata": {},
   "outputs": [
    {
     "data": {
      "text/plain": [
       "array([ True])"
      ]
     },
     "execution_count": 174,
     "metadata": {},
     "output_type": "execute_result"
    }
   ],
   "source": [
    "persiann_precipitation = climate_variables_dataframe_clean['precipitation_amt_mm']\n",
    "noaa_precipitation = climate_variables_dataframe_clean['reanalysis_sat_precip_amt_mm']\n",
    "(persiann_precipitation == noaa_precipitation).unique()"
   ]
  },
  {
   "cell_type": "markdown",
   "metadata": {},
   "source": [
    "- precipitation_amt_mm and reanalysis_sat_precip_amt_mm contain the same information"
   ]
  },
  {
   "cell_type": "markdown",
   "metadata": {},
   "source": [
    "### Scatterplots"
   ]
  },
  {
   "cell_type": "code",
   "execution_count": 175,
   "metadata": {},
   "outputs": [
    {
     "data": {
      "text/plain": [
       "<matplotlib.collections.PathCollection at 0x1257e2b38>"
      ]
     },
     "execution_count": 175,
     "metadata": {},
     "output_type": "execute_result"
    },
    {
     "data": {
      "image/png": "[encoded data removed]",
      "text/plain": [
       "<Figure size 432x288 with 1 Axes>"
      ]
     },
     "metadata": {},
     "output_type": "display_data"
    }
   ],
   "source": [
    "plt.scatter(climate_variables_dataframe_clean['ndvi_ne'], labels_dataframe_clean['total_cases'])"
   ]
  },
  {
   "cell_type": "code",
   "execution_count": 176,
   "metadata": {},
   "outputs": [
    {
     "data": {
      "text/plain": [
       "<matplotlib.collections.PathCollection at 0x12593cbe0>"
      ]
     },
     "execution_count": 176,
     "metadata": {},
     "output_type": "execute_result"
    },
    {
     "data": {
      "image/png": "[encoded data removed]",
      "text/plain": [
       "<Figure size 432x288 with 1 Axes>"
      ]
     },
     "metadata": {},
     "output_type": "display_data"
    }
   ],
   "source": [
    "plt.scatter(climate_variables_dataframe_clean['ndvi_nw'], labels_dataframe_clean['total_cases'])"
   ]
  },
  {
   "cell_type": "code",
   "execution_count": 177,
   "metadata": {},
   "outputs": [
    {
     "data": {
      "text/plain": [
       "<matplotlib.collections.PathCollection at 0x12597b320>"
      ]
     },
     "execution_count": 177,
     "metadata": {},
     "output_type": "execute_result"
    },
    {
     "data": {
      "image/png": "[encoded data removed]",
      "text/plain": [
       "<Figure size 432x288 with 1 Axes>"
      ]
     },
     "metadata": {},
     "output_type": "display_data"
    }
   ],
   "source": [
    "plt.scatter(climate_variables_dataframe_clean['ndvi_se'], labels_dataframe_clean['total_cases'])"
   ]
  },
  {
   "cell_type": "code",
   "execution_count": 178,
   "metadata": {},
   "outputs": [
    {
     "data": {
      "text/plain": [
       "<matplotlib.collections.PathCollection at 0x125ab2400>"
      ]
     },
     "execution_count": 178,
     "metadata": {},
     "output_type": "execute_result"
    },
    {
     "data": {
      "image/png": "[encoded data removed]",
      "text/plain": [
       "<Figure size 432x288 with 1 Axes>"
      ]
     },
     "metadata": {},
     "output_type": "display_data"
    }
   ],
   "source": [
    "plt.scatter(climate_variables_dataframe_clean['ndvi_sw'], labels_dataframe_clean['total_cases'])"
   ]
  },
  {
   "cell_type": "code",
   "execution_count": 179,
   "metadata": {},
   "outputs": [
    {
     "data": {
      "text/plain": [
       "<matplotlib.collections.PathCollection at 0x125b0ae80>"
      ]
     },
     "execution_count": 179,
     "metadata": {},
     "output_type": "execute_result"
    },
    {
     "data": {
      "image/png": "[encoded data removed]",
      "text/plain": [
       "<Figure size 432x288 with 1 Axes>"
      ]
     },
     "metadata": {},
     "output_type": "display_data"
    }
   ],
   "source": [
    "plt.scatter(climate_variables_dataframe_clean['precipitation_amt_mm'], labels_dataframe_clean['total_cases'])"
   ]
  },
  {
   "cell_type": "code",
   "execution_count": 180,
   "metadata": {},
   "outputs": [
    {
     "data": {
      "text/plain": [
       "<matplotlib.collections.PathCollection at 0x125c2c390>"
      ]
     },
     "execution_count": 180,
     "metadata": {},
     "output_type": "execute_result"
    },
    {
     "data": {
      "image/png": "[encoded data removed]",
      "text/plain": [
       "<Figure size 432x288 with 1 Axes>"
      ]
     },
     "metadata": {},
     "output_type": "display_data"
    }
   ],
   "source": [
    "plt.scatter(climate_variables_dataframe_clean['reanalysis_air_temp_k'], labels_dataframe_clean['total_cases'])"
   ]
  },
  {
   "cell_type": "code",
   "execution_count": 181,
   "metadata": {},
   "outputs": [
    {
     "data": {
      "text/plain": [
       "<matplotlib.collections.PathCollection at 0x125c903c8>"
      ]
     },
     "execution_count": 181,
     "metadata": {},
     "output_type": "execute_result"
    },
    {
     "data": {
      "image/png": "[encoded data removed]",
      "text/plain": [
       "<Figure size 432x288 with 1 Axes>"
      ]
     },
     "metadata": {},
     "output_type": "display_data"
    }
   ],
   "source": [
    "plt.scatter(climate_variables_dataframe_clean['reanalysis_avg_temp_k'], labels_dataframe_clean['total_cases'])"
   ]
  },
  {
   "cell_type": "code",
   "execution_count": 182,
   "metadata": {},
   "outputs": [
    {
     "data": {
      "text/plain": [
       "<matplotlib.collections.PathCollection at 0x125dad940>"
      ]
     },
     "execution_count": 182,
     "metadata": {},
     "output_type": "execute_result"
    },
    {
     "data": {
      "image/png": "[encoded data removed]",
      "text/plain": [
       "<Figure size 432x288 with 1 Axes>"
      ]
     },
     "metadata": {},
     "output_type": "display_data"
    }
   ],
   "source": [
    "plt.scatter(climate_variables_dataframe_clean['reanalysis_dew_point_temp_k'], labels_dataframe_clean['total_cases'])"
   ]
  },
  {
   "cell_type": "code",
   "execution_count": 183,
   "metadata": {},
   "outputs": [
    {
     "data": {
      "text/plain": [
       "<matplotlib.collections.PathCollection at 0x125e04b38>"
      ]
     },
     "execution_count": 183,
     "metadata": {},
     "output_type": "execute_result"
    },
    {
     "data": {
      "image/png": "[encoded data removed]",
      "text/plain": [
       "<Figure size 432x288 with 1 Axes>"
      ]
     },
     "metadata": {},
     "output_type": "display_data"
    }
   ],
   "source": [
    "plt.scatter(climate_variables_dataframe_clean['reanalysis_max_air_temp_k'], labels_dataframe_clean['total_cases'])"
   ]
  },
  {
   "cell_type": "code",
   "execution_count": 184,
   "metadata": {},
   "outputs": [
    {
     "data": {
      "text/plain": [
       "<matplotlib.collections.PathCollection at 0x125f23be0>"
      ]
     },
     "execution_count": 184,
     "metadata": {},
     "output_type": "execute_result"
    },
    {
     "data": {
      "image/png": "[encoded data removed]",
      "text/plain": [
       "<Figure size 432x288 with 1 Axes>"
      ]
     },
     "metadata": {},
     "output_type": "display_data"
    }
   ],
   "source": [
    "plt.scatter(climate_variables_dataframe_clean['reanalysis_min_air_temp_k'], labels_dataframe_clean['total_cases'])"
   ]
  },
  {
   "cell_type": "code",
   "execution_count": 185,
   "metadata": {},
   "outputs": [
    {
     "data": {
      "text/plain": [
       "<matplotlib.collections.PathCollection at 0x125f82748>"
      ]
     },
     "execution_count": 185,
     "metadata": {},
     "output_type": "execute_result"
    },
    {
     "data": {
      "image/png": "[encoded data removed]",
      "text/plain": [
       "<Figure size 432x288 with 1 Axes>"
      ]
     },
     "metadata": {},
     "output_type": "display_data"
    }
   ],
   "source": [
    "plt.scatter(climate_variables_dataframe_clean['reanalysis_precip_amt_kg_per_m2'], labels_dataframe_clean['total_cases'])"
   ]
  },
  {
   "cell_type": "code",
   "execution_count": 186,
   "metadata": {},
   "outputs": [
    {
     "data": {
      "text/plain": [
       "<matplotlib.collections.PathCollection at 0x126019128>"
      ]
     },
     "execution_count": 186,
     "metadata": {},
     "output_type": "execute_result"
    },
    {
     "data": {
      "image/png": "[encoded data removed]",
      "text/plain": [
       "<Figure size 432x288 with 1 Axes>"
      ]
     },
     "metadata": {},
     "output_type": "display_data"
    }
   ],
   "source": [
    "plt.scatter(climate_variables_dataframe_clean['reanalysis_relative_humidity_percent'], labels_dataframe_clean['total_cases'])"
   ]
  },
  {
   "cell_type": "code",
   "execution_count": 187,
   "metadata": {},
   "outputs": [
    {
     "data": {
      "text/plain": [
       "<matplotlib.collections.PathCollection at 0x126100390>"
      ]
     },
     "execution_count": 187,
     "metadata": {},
     "output_type": "execute_result"
    },
    {
     "data": {
      "image/png": "[encoded data removed]",
      "text/plain": [
       "<Figure size 432x288 with 1 Axes>"
      ]
     },
     "metadata": {},
     "output_type": "display_data"
    }
   ],
   "source": [
    "plt.scatter(climate_variables_dataframe_clean['reanalysis_sat_precip_amt_mm'], labels_dataframe_clean['total_cases'])"
   ]
  },
  {
   "cell_type": "code",
   "execution_count": 188,
   "metadata": {},
   "outputs": [
    {
     "data": {
      "text/plain": [
       "<matplotlib.collections.PathCollection at 0x12621c7b8>"
      ]
     },
     "execution_count": 188,
     "metadata": {},
     "output_type": "execute_result"
    },
    {
     "data": {
      "image/png": "[encoded data removed]",
      "text/plain": [
       "<Figure size 432x288 with 1 Axes>"
      ]
     },
     "metadata": {},
     "output_type": "display_data"
    }
   ],
   "source": [
    "plt.scatter(climate_variables_dataframe_clean['reanalysis_specific_humidity_g_per_kg'], labels_dataframe_clean['total_cases'])"
   ]
  },
  {
   "cell_type": "code",
   "execution_count": 189,
   "metadata": {},
   "outputs": [
    {
     "data": {
      "text/plain": [
       "<matplotlib.collections.PathCollection at 0x1262d2828>"
      ]
     },
     "execution_count": 189,
     "metadata": {},
     "output_type": "execute_result"
    },
    {
     "data": {
      "image/png": "[encoded data removed]",
      "text/plain": [
       "<Figure size 432x288 with 1 Axes>"
      ]
     },
     "metadata": {},
     "output_type": "display_data"
    }
   ],
   "source": [
    "plt.scatter(climate_variables_dataframe_clean['reanalysis_tdtr_k'], labels_dataframe_clean['total_cases'])"
   ]
  },
  {
   "cell_type": "code",
   "execution_count": 190,
   "metadata": {},
   "outputs": [
    {
     "data": {
      "text/plain": [
       "<matplotlib.collections.PathCollection at 0x1263926a0>"
      ]
     },
     "execution_count": 190,
     "metadata": {},
     "output_type": "execute_result"
    },
    {
     "data": {
      "image/png": "[encoded data removed]",
      "text/plain": [
       "<Figure size 432x288 with 1 Axes>"
      ]
     },
     "metadata": {},
     "output_type": "display_data"
    }
   ],
   "source": [
    "plt.scatter(climate_variables_dataframe_clean['station_avg_temp_c'], labels_dataframe_clean['total_cases'])"
   ]
  },
  {
   "cell_type": "code",
   "execution_count": 191,
   "metadata": {},
   "outputs": [
    {
     "data": {
      "text/plain": [
       "<matplotlib.collections.PathCollection at 0x1264477b8>"
      ]
     },
     "execution_count": 191,
     "metadata": {},
     "output_type": "execute_result"
    },
    {
     "data": {
      "image/png": "[encoded data removed]",
      "text/plain": [
       "<Figure size 432x288 with 1 Axes>"
      ]
     },
     "metadata": {},
     "output_type": "display_data"
    }
   ],
   "source": [
    "plt.scatter(climate_variables_dataframe_clean['station_diur_temp_rng_c'], labels_dataframe_clean['total_cases'])"
   ]
  },
  {
   "cell_type": "code",
   "execution_count": 192,
   "metadata": {},
   "outputs": [
    {
     "data": {
      "text/plain": [
       "<matplotlib.collections.PathCollection at 0x1264a8240>"
      ]
     },
     "execution_count": 192,
     "metadata": {},
     "output_type": "execute_result"
    },
    {
     "data": {
      "image/png": "[encoded data removed]",
      "text/plain": [
       "<Figure size 432x288 with 1 Axes>"
      ]
     },
     "metadata": {},
     "output_type": "display_data"
    }
   ],
   "source": [
    "plt.scatter(climate_variables_dataframe_clean['station_max_temp_c'], labels_dataframe_clean['total_cases'])"
   ]
  },
  {
   "cell_type": "code",
   "execution_count": 193,
   "metadata": {},
   "outputs": [
    {
     "data": {
      "text/plain": [
       "<matplotlib.collections.PathCollection at 0x1265c4860>"
      ]
     },
     "execution_count": 193,
     "metadata": {},
     "output_type": "execute_result"
    },
    {
     "data": {
      "image/png": "[encoded data removed]",
      "text/plain": [
       "<Figure size 432x288 with 1 Axes>"
      ]
     },
     "metadata": {},
     "output_type": "display_data"
    }
   ],
   "source": [
    "plt.scatter(climate_variables_dataframe_clean['station_min_temp_c'], labels_dataframe_clean['total_cases'])"
   ]
  },
  {
   "cell_type": "code",
   "execution_count": 194,
   "metadata": {},
   "outputs": [
    {
     "data": {
      "text/plain": [
       "<matplotlib.collections.PathCollection at 0x12661ae80>"
      ]
     },
     "execution_count": 194,
     "metadata": {},
     "output_type": "execute_result"
    },
    {
     "data": {
      "image/png": "[encoded data removed]",
      "text/plain": [
       "<Figure size 432x288 with 1 Axes>"
      ]
     },
     "metadata": {},
     "output_type": "display_data"
    }
   ],
   "source": [
    "plt.scatter(climate_variables_dataframe_clean['station_precip_mm'], labels_dataframe_clean['total_cases'])"
   ]
  },
  {
   "cell_type": "markdown",
   "metadata": {},
   "source": [
    "## Feature engineering"
   ]
  },
  {
   "cell_type": "markdown",
   "metadata": {},
   "source": [
    "### Picking input features"
   ]
  },
  {
   "cell_type": "markdown",
   "metadata": {},
   "source": [
    "- Removing reanalysis_sat_precip_amt_mm as it's the same data as precipitation_amt_mm\n",
    "- Removing reanalysis_avg_temp as it is highly correlated with reanalysis_air_temp. reanalysis_air_temp has a higher correlation with the target\n",
    "- Removing reanalysis_specific_humidity_g_per_kg as it's perfectly correlated with reanalysis_dew_point_temp_k\n",
    "- As the diurnal temp range is function of the min/max temp will leave it out of the input features. Some previous studies were based on the diurnal temp and also analysis the specif effect of max and min temperatures."
   ]
  },
  {
   "cell_type": "code",
   "execution_count": 195,
   "metadata": {},
   "outputs": [
    {
     "data": {
      "text/plain": [
       "Index(['ndvi_ne', 'ndvi_nw', 'ndvi_se', 'ndvi_sw', 'precipitation_amt_mm',\n",
       "       'reanalysis_air_temp_k', 'reanalysis_dew_point_temp_k',\n",
       "       'reanalysis_max_air_temp_k', 'reanalysis_min_air_temp_k',\n",
       "       'reanalysis_precip_amt_kg_per_m2',\n",
       "       'reanalysis_relative_humidity_percent', 'station_avg_temp_c',\n",
       "       'station_max_temp_c', 'station_min_temp_c', 'station_precip_mm'],\n",
       "      dtype='object')"
      ]
     },
     "execution_count": 195,
     "metadata": {},
     "output_type": "execute_result"
    }
   ],
   "source": [
    "climate_variables_dataframe_clean_filtered = climate_variables_dataframe_clean.drop(columns=['city', 'year', 'weekofyear', 'week_start_date', 'reanalysis_sat_precip_amt_mm', 'reanalysis_avg_temp_k', 'reanalysis_specific_humidity_g_per_kg', 'station_diur_temp_rng_c', 'reanalysis_tdtr_k'])\n",
    "climate_variables_dataframe_clean_filtered.columns"
   ]
  },
  {
   "cell_type": "markdown",
   "metadata": {},
   "source": [
    "### Normalizing features"
   ]
  },
  {
   "cell_type": "code",
   "execution_count": 196,
   "metadata": {},
   "outputs": [],
   "source": [
    "def clip_outliers(series, min_value, max_value):\n",
    "    return series.apply(lambda x: min(max(min_value, x), max_value))\n",
    "\n",
    "def z_scale(series):\n",
    "    mean = series.mean()\n",
    "    std = series.std()\n",
    "    return series.apply(lambda x: (x - mean) / std)\n",
    "\n",
    "def bucketize(series, boundaries):\n",
    "    bucketized_features = np.zeros((series.shape[0], len(boundaries) + 1), dtype='float64')\n",
    "    \n",
    "    for i, feature_value in enumerate(list(series)):\n",
    "        for j, boundary in enumerate(boundaries):\n",
    "            if feature_value < boundary:\n",
    "                bucketized_features[i,j] = 1\n",
    "                break\n",
    "\n",
    "        if feature_value >= boundaries[-1]:\n",
    "            bucketized_features[i, -1] = 1\n",
    "    \n",
    "    return np.transpose(bucketized_features)"
   ]
  },
  {
   "cell_type": "code",
   "execution_count": 197,
   "metadata": {},
   "outputs": [],
   "source": [
    "NDVI_COLUMNS = ['ndvi_ne', 'ndvi_nw', 'ndvi_se', 'ndvi_sw']\n",
    "NDVI_BOUNDARIES = np.linspace(-5, 5, 11) / 10\n",
    "\n",
    "RELATIVE_VALUE_COLUMNS = ['reanalysis_relative_humidity_percent']\n",
    "RV_BOUNDARIES = np.linspace(10, 90, 9)\n",
    "\n",
    "BUCKETIZED_COLUMNS = NDVI_COLUMNS + RELATIVE_VALUE_COLUMNS\n",
    "\n",
    "def normalize_features(samples_dataframe, bucketize=False):\n",
    "    normalized_dataframe = samples_dataframe.copy()\n",
    "\n",
    "    normalized_dataframe['precipitation_amt_mm'] = clip_outliers(normalized_dataframe['precipitation_amt_mm'], 0, 200)\n",
    "    normalized_dataframe['reanalysis_precip_amt_kg_per_m2'] = clip_outliers(normalized_dataframe['reanalysis_precip_amt_kg_per_m2'], 0, 300)\n",
    "    normalized_dataframe['station_precip_mm'] = clip_outliers(normalized_dataframe['station_precip_mm'], 0, 300)\n",
    "    \n",
    "    for column in normalized_dataframe:\n",
    "        if column not in BUCKETIZED_COLUMNS:\n",
    "            normalized_dataframe[column] = z_scale(normalized_dataframe[column])\n",
    "    \n",
    "    if bucketize:\n",
    "        for column in NDVI_COLUMNS:\n",
    "            bucketized_column = bucketize(normalized_dataframe[column], NDVI_BOUNDARIES)\n",
    "            for bucket in zip(list(NDVI_BOUNDARIES) + ['higher'], bucketized_column):\n",
    "                normalized_dataframe[f'{column}_{bucket[0]}'] = bucket[1]\n",
    "\n",
    "        for column in RELATIVE_VALUE_COLUMNS:\n",
    "            bucketized_column = bucketize(normalized_dataframe[column], RV_BOUNDARIES)\n",
    "            for bucket in zip(list(RV_BOUNDARIES) + ['100'], bucketized_column):\n",
    "                normalized_dataframe[f'{column}_{bucket[0]}'] = bucket[1]\n",
    "\n",
    "        normalized_dataframe = normalized_dataframe.drop(BUCKETIZED_COLUMNS, axis=1)\n",
    "\n",
    "    return normalized_dataframe"
   ]
  },
  {
   "cell_type": "markdown",
   "metadata": {},
   "source": [
    "## Baseline"
   ]
  },
  {
   "cell_type": "markdown",
   "metadata": {},
   "source": [
    "Using Poisson regession to estimate the weights of the model."
   ]
  },
  {
   "cell_type": "code",
   "execution_count": 198,
   "metadata": {},
   "outputs": [],
   "source": [
    "shuffled_index = np.random.permutation(climate_variables_dataframe_clean_filtered.index)\n",
    "sample_examples = climate_variables_dataframe_clean_filtered.reindex(shuffled_index)\n",
    "sample_labels = labels_dataframe_clean.reindex(shuffled_index)['total_cases']\n",
    "\n",
    "training_examples = sample_examples.head(899)\n",
    "training_targets = sample_labels.head(899)\n",
    "\n",
    "validation_examples = sample_examples.tail(300)\n",
    "validation_targets = sample_labels.tail(300)"
   ]
  },
  {
   "cell_type": "code",
   "execution_count": 199,
   "metadata": {},
   "outputs": [],
   "source": [
    "def prepare_model_matrix(features):\n",
    "    features = np.array([value for key, value in normalize_features(features).iterrows()])\n",
    "    features = np.concatenate((np.zeros((features.shape[0], 1)) + 1, features), axis=1)\n",
    "    return features\n",
    "\n",
    "def prepare_response(targets):\n",
    "    return np.array(targets).astype('float64')"
   ]
  },
  {
   "cell_type": "code",
   "execution_count": 200,
   "metadata": {},
   "outputs": [],
   "source": [
    "y = prepare_response(training_targets)\n",
    "x = prepare_model_matrix(training_examples)\n",
    "\n",
    "w, linear_response, is_converged, num_iter = tfp.glm.fit(\n",
    "    model_matrix=x,\n",
    "    response=y,\n",
    "    model=tfp.glm.Poisson()\n",
    ")\n",
    "\n",
    "log_likelihood = tfp.glm.Poisson().log_prob(y, linear_response)\n",
    "\n",
    "with tf.Session() as sess:\n",
    "    [w_, linear_response_, is_converged_, num_iter_, log_likelihood_] = sess.run([w, linear_response, is_converged, num_iter, log_likelihood])\n",
    "\n",
    "y_predicted = np.exp(linear_response_)\n",
    "likelihood = np.exp(log_likelihood_)"
   ]
  },
  {
   "cell_type": "code",
   "execution_count": 201,
   "metadata": {},
   "outputs": [
    {
     "data": {
      "text/plain": [
       "array([ 3.03398872e+01, -4.00155215e-01,  1.31158496e+00, -4.82070173e-01,\n",
       "       -4.42421986e-01, -2.89790304e-02, -1.85311646e+00,  2.50818689e+00,\n",
       "       -1.46425940e-02,  2.18252833e-01,  1.40888096e-01, -3.32958430e-01,\n",
       "        4.65636668e-02, -1.41147215e-01, -7.78486011e-02, -5.92474431e-02])"
      ]
     },
     "execution_count": 201,
     "metadata": {},
     "output_type": "execute_result"
    }
   ],
   "source": [
    "w_"
   ]
  },
  {
   "cell_type": "markdown",
   "metadata": {},
   "source": [
    "Comparing with statsmodels as double check."
   ]
  },
  {
   "cell_type": "code",
   "execution_count": 202,
   "metadata": {},
   "outputs": [
    {
     "data": {
      "text/html": [
       "<table class=\"simpletable\">\n",
       "<caption>Generalized Linear Model Regression Results</caption>\n",
       "<tr>\n",
       "  <th>Dep. Variable:</th>          <td>y</td>        <th>  No. Observations:  </th>  <td>   899</td>  \n",
       "</tr>\n",
       "<tr>\n",
       "  <th>Model:</th>                 <td>GLM</td>       <th>  Df Residuals:      </th>  <td>   883</td>  \n",
       "</tr>\n",
       "<tr>\n",
       "  <th>Model Family:</th>        <td>Poisson</td>     <th>  Df Model:          </th>  <td>    15</td>  \n",
       "</tr>\n",
       "<tr>\n",
       "  <th>Link Function:</th>         <td>log</td>       <th>  Scale:             </th> <td>  1.0000</td> \n",
       "</tr>\n",
       "<tr>\n",
       "  <th>Method:</th>               <td>IRLS</td>       <th>  Log-Likelihood:    </th> <td> -10743.</td> \n",
       "</tr>\n",
       "<tr>\n",
       "  <th>Date:</th>           <td>Sat, 04 May 2019</td> <th>  Deviance:          </th> <td>  17836.</td> \n",
       "</tr>\n",
       "<tr>\n",
       "  <th>Time:</th>               <td>16:21:16</td>     <th>  Pearson chi2:      </th> <td>2.39e+04</td> \n",
       "</tr>\n",
       "<tr>\n",
       "  <th>No. Iterations:</th>         <td>6</td>        <th>  Covariance Type:   </th> <td>nonrobust</td>\n",
       "</tr>\n",
       "</table>\n",
       "<table class=\"simpletable\">\n",
       "<tr>\n",
       "    <td></td>       <th>coef</th>     <th>std err</th>      <th>z</th>      <th>P>|z|</th>  <th>[0.025</th>    <th>0.975]</th>  \n",
       "</tr>\n",
       "<tr>\n",
       "  <th>const</th> <td>   30.3399</td> <td>    2.627</td> <td>   11.549</td> <td> 0.000</td> <td>   25.191</td> <td>   35.489</td>\n",
       "</tr>\n",
       "<tr>\n",
       "  <th>x1</th>    <td>   -0.4002</td> <td>    0.102</td> <td>   -3.921</td> <td> 0.000</td> <td>   -0.600</td> <td>   -0.200</td>\n",
       "</tr>\n",
       "<tr>\n",
       "  <th>x2</th>    <td>    1.3116</td> <td>    0.115</td> <td>   11.423</td> <td> 0.000</td> <td>    1.087</td> <td>    1.537</td>\n",
       "</tr>\n",
       "<tr>\n",
       "  <th>x3</th>    <td>   -0.4821</td> <td>    0.215</td> <td>   -2.242</td> <td> 0.025</td> <td>   -0.904</td> <td>   -0.061</td>\n",
       "</tr>\n",
       "<tr>\n",
       "  <th>x4</th>    <td>   -0.4424</td> <td>    0.204</td> <td>   -2.169</td> <td> 0.030</td> <td>   -0.842</td> <td>   -0.043</td>\n",
       "</tr>\n",
       "<tr>\n",
       "  <th>x5</th>    <td>   -0.0290</td> <td>    0.010</td> <td>   -3.002</td> <td> 0.003</td> <td>   -0.048</td> <td>   -0.010</td>\n",
       "</tr>\n",
       "<tr>\n",
       "  <th>x6</th>    <td>   -1.8531</td> <td>    0.213</td> <td>   -8.691</td> <td> 0.000</td> <td>   -2.271</td> <td>   -1.435</td>\n",
       "</tr>\n",
       "<tr>\n",
       "  <th>x7</th>    <td>    2.5082</td> <td>    0.232</td> <td>   10.808</td> <td> 0.000</td> <td>    2.053</td> <td>    2.963</td>\n",
       "</tr>\n",
       "<tr>\n",
       "  <th>x8</th>    <td>   -0.0146</td> <td>    0.037</td> <td>   -0.396</td> <td> 0.692</td> <td>   -0.087</td> <td>    0.058</td>\n",
       "</tr>\n",
       "<tr>\n",
       "  <th>x9</th>    <td>    0.2183</td> <td>    0.041</td> <td>    5.306</td> <td> 0.000</td> <td>    0.138</td> <td>    0.299</td>\n",
       "</tr>\n",
       "<tr>\n",
       "  <th>x10</th>   <td>    0.1409</td> <td>    0.010</td> <td>   13.706</td> <td> 0.000</td> <td>    0.121</td> <td>    0.161</td>\n",
       "</tr>\n",
       "<tr>\n",
       "  <th>x11</th>   <td>   -0.3330</td> <td>    0.032</td> <td>  -10.441</td> <td> 0.000</td> <td>   -0.395</td> <td>   -0.270</td>\n",
       "</tr>\n",
       "<tr>\n",
       "  <th>x12</th>   <td>    0.0466</td> <td>    0.027</td> <td>    1.716</td> <td> 0.086</td> <td>   -0.007</td> <td>    0.100</td>\n",
       "</tr>\n",
       "<tr>\n",
       "  <th>x13</th>   <td>   -0.1411</td> <td>    0.021</td> <td>   -6.866</td> <td> 0.000</td> <td>   -0.181</td> <td>   -0.101</td>\n",
       "</tr>\n",
       "<tr>\n",
       "  <th>x14</th>   <td>   -0.0778</td> <td>    0.019</td> <td>   -4.173</td> <td> 0.000</td> <td>   -0.114</td> <td>   -0.041</td>\n",
       "</tr>\n",
       "<tr>\n",
       "  <th>x15</th>   <td>   -0.0592</td> <td>    0.012</td> <td>   -4.972</td> <td> 0.000</td> <td>   -0.083</td> <td>   -0.036</td>\n",
       "</tr>\n",
       "</table>"
      ],
      "text/plain": [
       "<class 'statsmodels.iolib.summary.Summary'>\n",
       "\"\"\"\n",
       "                 Generalized Linear Model Regression Results                  \n",
       "==============================================================================\n",
       "Dep. Variable:                      y   No. Observations:                  899\n",
       "Model:                            GLM   Df Residuals:                      883\n",
       "Model Family:                 Poisson   Df Model:                           15\n",
       "Link Function:                    log   Scale:                          1.0000\n",
       "Method:                          IRLS   Log-Likelihood:                -10743.\n",
       "Date:                Sat, 04 May 2019   Deviance:                       17836.\n",
       "Time:                        16:21:16   Pearson chi2:                 2.39e+04\n",
       "No. Iterations:                     6   Covariance Type:             nonrobust\n",
       "==============================================================================\n",
       "                 coef    std err          z      P>|z|      [0.025      0.975]\n",
       "------------------------------------------------------------------------------\n",
       "const         30.3399      2.627     11.549      0.000      25.191      35.489\n",
       "x1            -0.4002      0.102     -3.921      0.000      -0.600      -0.200\n",
       "x2             1.3116      0.115     11.423      0.000       1.087       1.537\n",
       "x3            -0.4821      0.215     -2.242      0.025      -0.904      -0.061\n",
       "x4            -0.4424      0.204     -2.169      0.030      -0.842      -0.043\n",
       "x5            -0.0290      0.010     -3.002      0.003      -0.048      -0.010\n",
       "x6            -1.8531      0.213     -8.691      0.000      -2.271      -1.435\n",
       "x7             2.5082      0.232     10.808      0.000       2.053       2.963\n",
       "x8            -0.0146      0.037     -0.396      0.692      -0.087       0.058\n",
       "x9             0.2183      0.041      5.306      0.000       0.138       0.299\n",
       "x10            0.1409      0.010     13.706      0.000       0.121       0.161\n",
       "x11           -0.3330      0.032    -10.441      0.000      -0.395      -0.270\n",
       "x12            0.0466      0.027      1.716      0.086      -0.007       0.100\n",
       "x13           -0.1411      0.021     -6.866      0.000      -0.181      -0.101\n",
       "x14           -0.0778      0.019     -4.173      0.000      -0.114      -0.041\n",
       "x15           -0.0592      0.012     -4.972      0.000      -0.083      -0.036\n",
       "==============================================================================\n",
       "\"\"\""
      ]
     },
     "execution_count": 202,
     "metadata": {},
     "output_type": "execute_result"
    }
   ],
   "source": [
    "statsmodels_model = sm.GLM(\n",
    "    prepare_response(training_targets),\n",
    "    prepare_model_matrix(training_examples),\n",
    "    family=sm.families.family.Poisson(link=sm.genmod.families.links.log())\n",
    ")\n",
    "\n",
    "statsmodels_results = statsmodels_model.fit()\n",
    "statsmodels_predictions = statsmodels_results.predict(prepare_model_matrix(training_examples))\n",
    "statsmodels_likelihood = np.exp(\n",
    "    sm.families.family.Poisson(link=sm.genmod.families.links.log()).loglike_obs(y, y_predicted)\n",
    ")\n",
    "statsmodels_results.summary()"
   ]
  },
  {
   "cell_type": "code",
   "execution_count": 203,
   "metadata": {},
   "outputs": [
    {
     "data": {
      "text/html": [
       "<div>\n",
       "<style scoped>\n",
       "    .dataframe tbody tr th:only-of-type {\n",
       "        vertical-align: middle;\n",
       "    }\n",
       "\n",
       "    .dataframe tbody tr th {\n",
       "        vertical-align: top;\n",
       "    }\n",
       "\n",
       "    .dataframe thead th {\n",
       "        text-align: right;\n",
       "    }\n",
       "</style>\n",
       "<table border=\"1\" class=\"dataframe\">\n",
       "  <thead>\n",
       "    <tr style=\"text-align: right;\">\n",
       "      <th></th>\n",
       "      <th>y</th>\n",
       "      <th>y_pred</th>\n",
       "      <th>likelihood</th>\n",
       "      <th>statsmodels_pred</th>\n",
       "      <th>statsmodels_likelihood</th>\n",
       "    </tr>\n",
       "  </thead>\n",
       "  <tbody>\n",
       "    <tr>\n",
       "      <th>791</th>\n",
       "      <td>329.00000</td>\n",
       "      <td>44.84619</td>\n",
       "      <td>0.00000</td>\n",
       "      <td>44.84619</td>\n",
       "      <td>0.00000</td>\n",
       "    </tr>\n",
       "    <tr>\n",
       "      <th>204</th>\n",
       "      <td>263.00000</td>\n",
       "      <td>51.18014</td>\n",
       "      <td>0.00000</td>\n",
       "      <td>51.18014</td>\n",
       "      <td>0.00000</td>\n",
       "    </tr>\n",
       "    <tr>\n",
       "      <th>683</th>\n",
       "      <td>256.00000</td>\n",
       "      <td>49.41641</td>\n",
       "      <td>0.00000</td>\n",
       "      <td>49.41641</td>\n",
       "      <td>0.00000</td>\n",
       "    </tr>\n",
       "    <tr>\n",
       "      <th>342</th>\n",
       "      <td>202.00000</td>\n",
       "      <td>30.70814</td>\n",
       "      <td>0.00000</td>\n",
       "      <td>30.70814</td>\n",
       "      <td>0.00000</td>\n",
       "    </tr>\n",
       "    <tr>\n",
       "      <th>598</th>\n",
       "      <td>220.00000</td>\n",
       "      <td>45.54331</td>\n",
       "      <td>0.00000</td>\n",
       "      <td>45.54331</td>\n",
       "      <td>0.00000</td>\n",
       "    </tr>\n",
       "    <tr>\n",
       "      <th>333</th>\n",
       "      <td>191.00000</td>\n",
       "      <td>40.70404</td>\n",
       "      <td>0.00000</td>\n",
       "      <td>40.70404</td>\n",
       "      <td>0.00000</td>\n",
       "    </tr>\n",
       "    <tr>\n",
       "      <th>29</th>\n",
       "      <td>181.00000</td>\n",
       "      <td>43.59304</td>\n",
       "      <td>0.00000</td>\n",
       "      <td>43.59304</td>\n",
       "      <td>0.00000</td>\n",
       "    </tr>\n",
       "    <tr>\n",
       "      <th>285</th>\n",
       "      <td>170.00000</td>\n",
       "      <td>40.55589</td>\n",
       "      <td>0.00000</td>\n",
       "      <td>40.55589</td>\n",
       "      <td>0.00000</td>\n",
       "    </tr>\n",
       "    <tr>\n",
       "      <th>575</th>\n",
       "      <td>83.00000</td>\n",
       "      <td>8.64556</td>\n",
       "      <td>0.00000</td>\n",
       "      <td>8.64556</td>\n",
       "      <td>0.00000</td>\n",
       "    </tr>\n",
       "    <tr>\n",
       "      <th>195</th>\n",
       "      <td>150.00000</td>\n",
       "      <td>33.47304</td>\n",
       "      <td>0.00000</td>\n",
       "      <td>33.47304</td>\n",
       "      <td>0.00000</td>\n",
       "    </tr>\n",
       "    <tr>\n",
       "      <th>689</th>\n",
       "      <td>129.00000</td>\n",
       "      <td>25.12553</td>\n",
       "      <td>0.00000</td>\n",
       "      <td>25.12553</td>\n",
       "      <td>0.00000</td>\n",
       "    </tr>\n",
       "    <tr>\n",
       "      <th>357</th>\n",
       "      <td>140.00000</td>\n",
       "      <td>31.69834</td>\n",
       "      <td>0.00000</td>\n",
       "      <td>31.69834</td>\n",
       "      <td>0.00000</td>\n",
       "    </tr>\n",
       "    <tr>\n",
       "      <th>775</th>\n",
       "      <td>104.00000</td>\n",
       "      <td>17.82889</td>\n",
       "      <td>0.00000</td>\n",
       "      <td>17.82889</td>\n",
       "      <td>0.00000</td>\n",
       "    </tr>\n",
       "    <tr>\n",
       "      <th>132</th>\n",
       "      <td>91.00000</td>\n",
       "      <td>13.59012</td>\n",
       "      <td>0.00000</td>\n",
       "      <td>13.59012</td>\n",
       "      <td>0.00000</td>\n",
       "    </tr>\n",
       "    <tr>\n",
       "      <th>476</th>\n",
       "      <td>140.00000</td>\n",
       "      <td>33.01392</td>\n",
       "      <td>0.00000</td>\n",
       "      <td>33.01392</td>\n",
       "      <td>0.00000</td>\n",
       "    </tr>\n",
       "    <tr>\n",
       "      <th>...</th>\n",
       "      <td>...</td>\n",
       "      <td>...</td>\n",
       "      <td>...</td>\n",
       "      <td>...</td>\n",
       "      <td>...</td>\n",
       "    </tr>\n",
       "    <tr>\n",
       "      <th>802</th>\n",
       "      <td>5.00000</td>\n",
       "      <td>4.31074</td>\n",
       "      <td>0.16651</td>\n",
       "      <td>4.31074</td>\n",
       "      <td>0.16651</td>\n",
       "    </tr>\n",
       "    <tr>\n",
       "      <th>203</th>\n",
       "      <td>5.00000</td>\n",
       "      <td>4.49051</td>\n",
       "      <td>0.17064</td>\n",
       "      <td>4.49051</td>\n",
       "      <td>0.17064</td>\n",
       "    </tr>\n",
       "    <tr>\n",
       "      <th>505</th>\n",
       "      <td>5.00000</td>\n",
       "      <td>5.48698</td>\n",
       "      <td>0.17160</td>\n",
       "      <td>5.48698</td>\n",
       "      <td>0.17160</td>\n",
       "    </tr>\n",
       "    <tr>\n",
       "      <th>69</th>\n",
       "      <td>5.00000</td>\n",
       "      <td>5.25676</td>\n",
       "      <td>0.17435</td>\n",
       "      <td>5.25676</td>\n",
       "      <td>0.17435</td>\n",
       "    </tr>\n",
       "    <tr>\n",
       "      <th>431</th>\n",
       "      <td>5.00000</td>\n",
       "      <td>4.82530</td>\n",
       "      <td>0.17492</td>\n",
       "      <td>4.82530</td>\n",
       "      <td>0.17492</td>\n",
       "    </tr>\n",
       "    <tr>\n",
       "      <th>426</th>\n",
       "      <td>4.00000</td>\n",
       "      <td>4.96781</td>\n",
       "      <td>0.17659</td>\n",
       "      <td>4.96781</td>\n",
       "      <td>0.17659</td>\n",
       "    </tr>\n",
       "    <tr>\n",
       "      <th>340</th>\n",
       "      <td>4.00000</td>\n",
       "      <td>4.91816</td>\n",
       "      <td>0.17827</td>\n",
       "      <td>4.91816</td>\n",
       "      <td>0.17827</td>\n",
       "    </tr>\n",
       "    <tr>\n",
       "      <th>190</th>\n",
       "      <td>3.00000</td>\n",
       "      <td>4.22942</td>\n",
       "      <td>0.18360</td>\n",
       "      <td>4.22942</td>\n",
       "      <td>0.18360</td>\n",
       "    </tr>\n",
       "    <tr>\n",
       "      <th>57</th>\n",
       "      <td>1.00000</td>\n",
       "      <td>2.55028</td>\n",
       "      <td>0.19907</td>\n",
       "      <td>2.55028</td>\n",
       "      <td>0.19907</td>\n",
       "    </tr>\n",
       "    <tr>\n",
       "      <th>74</th>\n",
       "      <td>3.00000</td>\n",
       "      <td>3.68810</td>\n",
       "      <td>0.20919</td>\n",
       "      <td>3.68810</td>\n",
       "      <td>0.20919</td>\n",
       "    </tr>\n",
       "    <tr>\n",
       "      <th>199</th>\n",
       "      <td>3.00000</td>\n",
       "      <td>2.46147</td>\n",
       "      <td>0.21205</td>\n",
       "      <td>2.46147</td>\n",
       "      <td>0.21205</td>\n",
       "    </tr>\n",
       "    <tr>\n",
       "      <th>746</th>\n",
       "      <td>0.00000</td>\n",
       "      <td>1.52577</td>\n",
       "      <td>0.21745</td>\n",
       "      <td>1.52577</td>\n",
       "      <td>0.21745</td>\n",
       "    </tr>\n",
       "    <tr>\n",
       "      <th>846</th>\n",
       "      <td>3.00000</td>\n",
       "      <td>3.34301</td>\n",
       "      <td>0.21999</td>\n",
       "      <td>3.34301</td>\n",
       "      <td>0.21999</td>\n",
       "    </tr>\n",
       "    <tr>\n",
       "      <th>231</th>\n",
       "      <td>2.00000</td>\n",
       "      <td>2.91324</td>\n",
       "      <td>0.23042</td>\n",
       "      <td>2.91324</td>\n",
       "      <td>0.23042</td>\n",
       "    </tr>\n",
       "    <tr>\n",
       "      <th>550</th>\n",
       "      <td>1.00000</td>\n",
       "      <td>0.78510</td>\n",
       "      <td>0.35806</td>\n",
       "      <td>0.78510</td>\n",
       "      <td>0.35806</td>\n",
       "    </tr>\n",
       "  </tbody>\n",
       "</table>\n",
       "<p>899 rows × 5 columns</p>\n",
       "</div>"
      ],
      "text/plain": [
       "            y   y_pred  likelihood  statsmodels_pred  statsmodels_likelihood\n",
       "791 329.00000 44.84619     0.00000          44.84619                 0.00000\n",
       "204 263.00000 51.18014     0.00000          51.18014                 0.00000\n",
       "683 256.00000 49.41641     0.00000          49.41641                 0.00000\n",
       "342 202.00000 30.70814     0.00000          30.70814                 0.00000\n",
       "598 220.00000 45.54331     0.00000          45.54331                 0.00000\n",
       "333 191.00000 40.70404     0.00000          40.70404                 0.00000\n",
       "29  181.00000 43.59304     0.00000          43.59304                 0.00000\n",
       "285 170.00000 40.55589     0.00000          40.55589                 0.00000\n",
       "575  83.00000  8.64556     0.00000           8.64556                 0.00000\n",
       "195 150.00000 33.47304     0.00000          33.47304                 0.00000\n",
       "689 129.00000 25.12553     0.00000          25.12553                 0.00000\n",
       "357 140.00000 31.69834     0.00000          31.69834                 0.00000\n",
       "775 104.00000 17.82889     0.00000          17.82889                 0.00000\n",
       "132  91.00000 13.59012     0.00000          13.59012                 0.00000\n",
       "476 140.00000 33.01392     0.00000          33.01392                 0.00000\n",
       "..        ...      ...         ...               ...                     ...\n",
       "802   5.00000  4.31074     0.16651           4.31074                 0.16651\n",
       "203   5.00000  4.49051     0.17064           4.49051                 0.17064\n",
       "505   5.00000  5.48698     0.17160           5.48698                 0.17160\n",
       "69    5.00000  5.25676     0.17435           5.25676                 0.17435\n",
       "431   5.00000  4.82530     0.17492           4.82530                 0.17492\n",
       "426   4.00000  4.96781     0.17659           4.96781                 0.17659\n",
       "340   4.00000  4.91816     0.17827           4.91816                 0.17827\n",
       "190   3.00000  4.22942     0.18360           4.22942                 0.18360\n",
       "57    1.00000  2.55028     0.19907           2.55028                 0.19907\n",
       "74    3.00000  3.68810     0.20919           3.68810                 0.20919\n",
       "199   3.00000  2.46147     0.21205           2.46147                 0.21205\n",
       "746   0.00000  1.52577     0.21745           1.52577                 0.21745\n",
       "846   3.00000  3.34301     0.21999           3.34301                 0.21999\n",
       "231   2.00000  2.91324     0.23042           2.91324                 0.23042\n",
       "550   1.00000  0.78510     0.35806           0.78510                 0.35806\n",
       "\n",
       "[899 rows x 5 columns]"
      ]
     },
     "execution_count": 203,
     "metadata": {},
     "output_type": "execute_result"
    }
   ],
   "source": [
    "pd.options.display.float_format = '{:.5f}'.format\n",
    "likelihood = np.round(np.exp(log_likelihood_), 5)\n",
    "results = pd.DataFrame(\n",
    "    {\n",
    "        'y': y,\n",
    "        'y_pred': y_predicted,\n",
    "        'likelihood': likelihood,\n",
    "        'statsmodels_pred': statsmodels_predictions,\n",
    "        'statsmodels_likelihood': statsmodels_likelihood\n",
    "    }\n",
    ")\n",
    "results.sort_values('statsmodels_likelihood')"
   ]
  },
  {
   "cell_type": "markdown",
   "metadata": {},
   "source": [
    "Training MAE"
   ]
  },
  {
   "cell_type": "code",
   "execution_count": 204,
   "metadata": {},
   "outputs": [
    {
     "data": {
      "text/plain": [
       "16.242492577603908"
      ]
     },
     "execution_count": 204,
     "metadata": {},
     "output_type": "execute_result"
    }
   ],
   "source": [
    "metrics.mean_absolute_error(y, y_predicted)"
   ]
  },
  {
   "cell_type": "markdown",
   "metadata": {},
   "source": [
    "#### Validation"
   ]
  },
  {
   "cell_type": "code",
   "execution_count": 205,
   "metadata": {},
   "outputs": [
    {
     "data": {
      "text/plain": [
       "13.875078035131786"
      ]
     },
     "execution_count": 205,
     "metadata": {},
     "output_type": "execute_result"
    }
   ],
   "source": [
    "y_predicted_validation = np.exp(np.dot(prepare_model_matrix(validation_examples), w_))\n",
    "y_validation = prepare_response(validation_targets)\n",
    "metrics.mean_absolute_error(y_validation, y_predicted_validation)"
   ]
  },
  {
   "cell_type": "markdown",
   "metadata": {},
   "source": [
    "#### Distribution fit"
   ]
  },
  {
   "cell_type": "code",
   "execution_count": 206,
   "metadata": {},
   "outputs": [
    {
     "data": {
      "image/png": "[encoded data removed]",
      "text/plain": [
       "<Figure size 432x288 with 1 Axes>"
      ]
     },
     "metadata": {},
     "output_type": "display_data"
    }
   ],
   "source": [
    "plt.scatter(statsmodels_results.mu, statsmodels_results.resid_pearson)\n",
    "plt.show()"
   ]
  },
  {
   "cell_type": "code",
   "execution_count": 207,
   "metadata": {},
   "outputs": [
    {
     "data": {
      "text/plain": [
       "27.104413456491088"
      ]
     },
     "execution_count": 207,
     "metadata": {},
     "output_type": "execute_result"
    }
   ],
   "source": [
    "statsmodels_results.pearson_chi2 / statsmodels_results.df_resid"
   ]
  },
  {
   "cell_type": "markdown",
   "metadata": {},
   "source": [
    "Significant overdispersion exists which means that the Poisson model is not an appropriate one for the data. Negative binomial model could be used "
   ]
  },
  {
   "cell_type": "markdown",
   "metadata": {},
   "source": [
    "## Model"
   ]
  },
  {
   "cell_type": "markdown",
   "metadata": {},
   "source": [
    "Considering the problem at hand a Recurrent Network is used. Looking at the relevant time periods for the problem (EIP, mosqito development and life cycle) the sequence length choosen is equal 8 (representing 8 weeks)."
   ]
  },
  {
   "cell_type": "code",
   "execution_count": 208,
   "metadata": {},
   "outputs": [],
   "source": [
    "observations = climate_variables_dataframe_clean_filtered\n",
    "labels = labels_dataframe_clean['total_cases']"
   ]
  },
  {
   "cell_type": "code",
   "execution_count": 209,
   "metadata": {},
   "outputs": [],
   "source": [
    "def build_sequences(observations, labels, sequence_size, step, delay):\n",
    "    observations = np.array(observations)\n",
    "    labels = np.array(labels)\n",
    "    examples = []\n",
    "    targets = []\n",
    "\n",
    "    max_index = len(observations) - sequence_size - delay\n",
    "    index = 0\n",
    "\n",
    "    while index < max_index:\n",
    "        examples.append(observations[index:index + sequence_size])\n",
    "        targets.append(labels[index + sequence_size + delay])\n",
    "        index += step\n",
    "\n",
    "    return np.array(examples), np.array(targets)"
   ]
  },
  {
   "cell_type": "code",
   "execution_count": 210,
   "metadata": {},
   "outputs": [],
   "source": [
    "def split_samples(examples, targets, sequence_size, step, split_ratio):\n",
    "    total_sample = np.array(list(zip(examples, targets)))\n",
    "    N = total_sample.shape[0]\n",
    "    overlap = int(np.ceil(sequence_size / step) - 1)\n",
    "    validation_sample_count = int(np.ceil(split_ratio * N / (1 + split_ratio * (1 + 2 * overlap))))\n",
    "    \n",
    "    validation_indices = list(np.random.choice(N, validation_sample_count, replace=False))\n",
    "    validation_sample = total_sample[validation_indices]\n",
    "\n",
    "    excluded_indices = set(validation_indices)\n",
    "\n",
    "    for i in range(overlap):\n",
    "        excluded_higher_indices = map(lambda x: min(N - 1, x + (i + 1)), validation_indices)\n",
    "        excluded_lower_indices = map(lambda x: max(0, x - (i + 1)), validation_indices)\n",
    "        excluded_indices = excluded_indices | set(excluded_higher_indices) | set(excluded_lower_indices)\n",
    "\n",
    "    training_indices = list(set(range(N)) - excluded_indices)\n",
    "    training_sample = total_sample[training_indices]\n",
    "\n",
    "    training_examples, training_targets = zip(*list(training_sample))\n",
    "    validation_examples, validation_targets = zip(*list(validation_sample))\n",
    "    \n",
    "    return map(np.asarray, (training_examples, training_targets, validation_examples, validation_targets))"
   ]
  },
  {
   "cell_type": "code",
   "execution_count": 211,
   "metadata": {},
   "outputs": [],
   "source": [
    "from keras.utils import Sequence\n",
    "\n",
    "class BatchGenerator(Sequence):\n",
    "    def __init__(self, examples, targets, batch_size):\n",
    "        self._examples = examples\n",
    "        self._targets = targets\n",
    "        self._batch_size = batch_size\n",
    "        \n",
    "    def __len__(self):\n",
    "        return int(np.ceil(len(self._examples) / self._batch_size))\n",
    "    \n",
    "    def __getitem__(self, index):\n",
    "        start = index * self._batch_size\n",
    "        end = index * self._batch_size + self._batch_size\n",
    "        return self._examples[start:end], self._targets[start:end]"
   ]
  },
  {
   "cell_type": "code",
   "execution_count": 212,
   "metadata": {},
   "outputs": [],
   "source": [
    "BATCH_SIZE = 32\n",
    "SEQUENCE_SIZE = 8\n",
    "STEP = 4\n",
    "DELAY = 0\n",
    "VALIDATION_TRAINING_SPLIT_RATIO = 0.1\n",
    "\n",
    "examples, targets = build_sequences(\n",
    "    normalize_features(observations),\n",
    "    labels,\n",
    "    sequence_size=SEQUENCE_SIZE,\n",
    "    step=STEP,\n",
    "    delay=DELAY\n",
    ")\n",
    "\n",
    "training_examples, training_targets, validation_examples, validation_targets = split_samples(\n",
    "    examples,\n",
    "    targets,\n",
    "    sequence_size=SEQUENCE_SIZE,\n",
    "    step=STEP,\n",
    "    split_ratio=VALIDATION_TRAINING_SPLIT_RATIO\n",
    ")\n",
    "\n",
    "training_generator = BatchGenerator(training_examples, training_targets, BATCH_SIZE)\n",
    "validation_generator = BatchGenerator(validation_examples, validation_targets, BATCH_SIZE)"
   ]
  },
  {
   "cell_type": "code",
   "execution_count": 213,
   "metadata": {},
   "outputs": [
    {
     "name": "stdout",
     "output_type": "stream",
     "text": [
      "_________________________________________________________________\n",
      "Layer (type)                 Output Shape              Param #   \n",
      "=================================================================\n",
      "lstm_5 (LSTM)                (None, 8, 32)             6144      \n",
      "_________________________________________________________________\n",
      "lstm_6 (LSTM)                (None, 32)                8320      \n",
      "_________________________________________________________________\n",
      "dense_3 (Dense)              (None, 1)                 33        \n",
      "=================================================================\n",
      "Total params: 14,497\n",
      "Trainable params: 14,497\n",
      "Non-trainable params: 0\n",
      "_________________________________________________________________\n"
     ]
    }
   ],
   "source": [
    "from keras import Sequential\n",
    "from keras.layers import LSTM, Dense\n",
    "from keras.optimizers import RMSprop\n",
    "\n",
    "model = Sequential()\n",
    "model.add(LSTM(32,input_shape=(SEQUENCE_SIZE, examples.shape[-1],), activation='relu', return_sequences=True))\n",
    "model.add(LSTM(32, activation='relu'))\n",
    "model.add(Dense(1, activation='exponential'))\n",
    "\n",
    "model.summary()"
   ]
  },
  {
   "cell_type": "code",
   "execution_count": 214,
   "metadata": {},
   "outputs": [],
   "source": [
    "model.compile(optimizer=RMSprop(), loss='poisson')"
   ]
  },
  {
   "cell_type": "code",
   "execution_count": 215,
   "metadata": {},
   "outputs": [
    {
     "name": "stdout",
     "output_type": "stream",
     "text": [
      "Epoch 1/200\n",
      "8/8 [==============================] - 2s 217ms/step - loss: -12.9641 - val_loss: -27.2005\n",
      "Epoch 2/200\n",
      "8/8 [==============================] - 0s 13ms/step - loss: -38.8906 - val_loss: -34.7982\n",
      "Epoch 3/200\n",
      "8/8 [==============================] - 0s 14ms/step - loss: -40.7759 - val_loss: -38.4185\n",
      "Epoch 4/200\n",
      "8/8 [==============================] - 0s 14ms/step - loss: -39.1814 - val_loss: -32.4049\n",
      "Epoch 5/200\n",
      "8/8 [==============================] - 0s 25ms/step - loss: -39.3119 - val_loss: -34.8741\n",
      "Epoch 6/200\n",
      "8/8 [==============================] - 0s 14ms/step - loss: -39.2410 - val_loss: -39.1385\n",
      "Epoch 7/200\n",
      "8/8 [==============================] - 0s 24ms/step - loss: -42.0428 - val_loss: -41.3823\n",
      "Epoch 8/200\n",
      "8/8 [==============================] - 0s 14ms/step - loss: -39.1456 - val_loss: -38.4704\n",
      "Epoch 9/200\n",
      "8/8 [==============================] - 0s 25ms/step - loss: -42.7426 - val_loss: -38.7836\n",
      "Epoch 10/200\n",
      "8/8 [==============================] - 0s 13ms/step - loss: -39.4200 - val_loss: -40.6610\n",
      "Epoch 11/200\n",
      "8/8 [==============================] - 0s 24ms/step - loss: -41.2320 - val_loss: -41.0802\n",
      "Epoch 12/200\n",
      "8/8 [==============================] - 0s 14ms/step - loss: -43.8958 - val_loss: -41.6406\n",
      "Epoch 13/200\n",
      "8/8 [==============================] - 0s 23ms/step - loss: -41.1909 - val_loss: -42.3909\n",
      "Epoch 14/200\n",
      "8/8 [==============================] - 0s 14ms/step - loss: -42.2502 - val_loss: -43.1651\n",
      "Epoch 15/200\n",
      "8/8 [==============================] - 0s 13ms/step - loss: -40.7786 - val_loss: -39.6960\n",
      "Epoch 16/200\n",
      "8/8 [==============================] - 0s 24ms/step - loss: -42.3860 - val_loss: -43.3722\n",
      "Epoch 17/200\n",
      "8/8 [==============================] - 0s 14ms/step - loss: -43.7359 - val_loss: -42.5090\n",
      "Epoch 18/200\n",
      "8/8 [==============================] - 0s 14ms/step - loss: -42.8564 - val_loss: -41.6445\n",
      "Epoch 19/200\n",
      "8/8 [==============================] - 0s 25ms/step - loss: -40.2253 - val_loss: -44.6852\n",
      "Epoch 20/200\n",
      "8/8 [==============================] - 0s 14ms/step - loss: -42.7901 - val_loss: -44.5459\n",
      "Epoch 21/200\n",
      "8/8 [==============================] - 0s 23ms/step - loss: -42.3654 - val_loss: -44.6953\n",
      "Epoch 22/200\n",
      "8/8 [==============================] - 0s 14ms/step - loss: -42.8558 - val_loss: -44.1185\n",
      "Epoch 23/200\n",
      "8/8 [==============================] - 0s 13ms/step - loss: -41.9475 - val_loss: -44.3361\n",
      "Epoch 24/200\n",
      "8/8 [==============================] - 0s 15ms/step - loss: -43.8628 - val_loss: -43.7336\n",
      "Epoch 25/200\n",
      "8/8 [==============================] - 0s 23ms/step - loss: -42.8241 - val_loss: -44.1450\n",
      "Epoch 26/200\n",
      "8/8 [==============================] - 0s 14ms/step - loss: -43.1911 - val_loss: -44.9276\n",
      "Epoch 27/200\n",
      "8/8 [==============================] - 0s 24ms/step - loss: -44.2303 - val_loss: -43.4684\n",
      "Epoch 28/200\n",
      "8/8 [==============================] - 0s 14ms/step - loss: -44.2046 - val_loss: -43.7606\n",
      "Epoch 29/200\n",
      "8/8 [==============================] - 0s 25ms/step - loss: -42.3724 - val_loss: -43.5663\n",
      "Epoch 30/200\n",
      "8/8 [==============================] - 0s 14ms/step - loss: -43.0680 - val_loss: -44.3692\n",
      "Epoch 31/200\n",
      "8/8 [==============================] - 0s 13ms/step - loss: -45.2190 - val_loss: -44.1345\n",
      "Epoch 32/200\n",
      "8/8 [==============================] - 0s 26ms/step - loss: -43.7352 - val_loss: -44.1133\n",
      "Epoch 33/200\n",
      "8/8 [==============================] - 0s 26ms/step - loss: -45.4449 - val_loss: -44.9859\n",
      "Epoch 34/200\n",
      "8/8 [==============================] - 0s 26ms/step - loss: -44.7182 - val_loss: -44.5514\n",
      "Epoch 35/200\n",
      "8/8 [==============================] - 0s 24ms/step - loss: -42.5905 - val_loss: -44.7335\n",
      "Epoch 36/200\n",
      "8/8 [==============================] - 0s 14ms/step - loss: -43.8879 - val_loss: -43.1190\n",
      "Epoch 37/200\n",
      "8/8 [==============================] - 0s 24ms/step - loss: -45.0393 - val_loss: -45.4139\n",
      "Epoch 38/200\n",
      "8/8 [==============================] - 0s 14ms/step - loss: -42.3735 - val_loss: -44.6895\n",
      "Epoch 39/200\n",
      "8/8 [==============================] - 0s 25ms/step - loss: -44.1784 - val_loss: -44.7668\n",
      "Epoch 40/200\n",
      "8/8 [==============================] - 0s 14ms/step - loss: -43.5665 - val_loss: -44.9237\n",
      "Epoch 41/200\n",
      "8/8 [==============================] - 0s 25ms/step - loss: -44.9651 - val_loss: -44.2118\n",
      "Epoch 42/200\n",
      "8/8 [==============================] - 0s 25ms/step - loss: -43.4951 - val_loss: -44.3308\n",
      "Epoch 43/200\n",
      "8/8 [==============================] - 0s 14ms/step - loss: -45.0248 - val_loss: -44.7138\n",
      "Epoch 44/200\n",
      "8/8 [==============================] - 0s 24ms/step - loss: -44.8663 - val_loss: -44.1516\n",
      "Epoch 45/200\n",
      "8/8 [==============================] - 0s 14ms/step - loss: -44.3839 - val_loss: -45.6158\n",
      "Epoch 46/200\n",
      "8/8 [==============================] - 0s 24ms/step - loss: -43.0826 - val_loss: -44.4946\n",
      "Epoch 47/200\n",
      "8/8 [==============================] - 0s 15ms/step - loss: -44.0626 - val_loss: -44.6823\n",
      "Epoch 48/200\n",
      "8/8 [==============================] - 0s 24ms/step - loss: -44.2599 - val_loss: -44.3738\n",
      "Epoch 49/200\n",
      "8/8 [==============================] - 0s 27ms/step - loss: -44.5199 - val_loss: -43.3315\n",
      "Epoch 50/200\n",
      "8/8 [==============================] - 0s 25ms/step - loss: -44.8923 - val_loss: -45.4080\n",
      "Epoch 51/200\n",
      "8/8 [==============================] - 0s 27ms/step - loss: -44.6475 - val_loss: -43.6259\n",
      "Epoch 52/200\n",
      "8/8 [==============================] - 0s 25ms/step - loss: -44.3141 - val_loss: -42.7941\n",
      "Epoch 53/200\n",
      "8/8 [==============================] - 0s 26ms/step - loss: -44.6110 - val_loss: -43.8793\n",
      "Epoch 54/200\n",
      "8/8 [==============================] - 0s 27ms/step - loss: -45.4687 - val_loss: -42.5532\n",
      "Epoch 55/200\n",
      "8/8 [==============================] - 0s 24ms/step - loss: -44.3184 - val_loss: -45.1336\n",
      "Epoch 56/200\n",
      "8/8 [==============================] - 0s 14ms/step - loss: -45.2393 - val_loss: -45.1948\n",
      "Epoch 57/200\n",
      "8/8 [==============================] - 0s 25ms/step - loss: -44.0993 - val_loss: -44.8127\n",
      "Epoch 58/200\n",
      "8/8 [==============================] - 0s 26ms/step - loss: -43.9786 - val_loss: -44.5276\n",
      "Epoch 59/200\n",
      "8/8 [==============================] - 0s 14ms/step - loss: -44.4066 - val_loss: -44.3188\n",
      "Epoch 60/200\n",
      "8/8 [==============================] - 0s 25ms/step - loss: -44.5825 - val_loss: -44.9459\n",
      "Epoch 61/200\n",
      "8/8 [==============================] - 0s 24ms/step - loss: -45.2725 - val_loss: -41.2486\n",
      "Epoch 62/200\n",
      "8/8 [==============================] - 0s 14ms/step - loss: -43.7512 - val_loss: -45.0788\n",
      "Epoch 63/200\n",
      "8/8 [==============================] - 0s 23ms/step - loss: -44.6829 - val_loss: -44.4900\n",
      "Epoch 64/200\n",
      "8/8 [==============================] - 0s 15ms/step - loss: -45.5483 - val_loss: -46.1541\n",
      "Epoch 65/200\n",
      "8/8 [==============================] - 0s 23ms/step - loss: -46.0887 - val_loss: -44.5681\n",
      "Epoch 66/200\n",
      "8/8 [==============================] - 0s 13ms/step - loss: -45.8984 - val_loss: -41.6323\n",
      "Epoch 67/200\n",
      "8/8 [==============================] - 0s 14ms/step - loss: -45.5840 - val_loss: -44.4127\n",
      "Epoch 68/200\n",
      "8/8 [==============================] - 0s 23ms/step - loss: -44.5357 - val_loss: -42.7905\n",
      "Epoch 69/200\n",
      "8/8 [==============================] - 0s 14ms/step - loss: -44.4573 - val_loss: -44.6435\n",
      "Epoch 70/200\n",
      "8/8 [==============================] - 0s 25ms/step - loss: -44.8062 - val_loss: -42.5872\n",
      "Epoch 71/200\n",
      "8/8 [==============================] - 0s 15ms/step - loss: -44.4552 - val_loss: -45.2641\n",
      "Epoch 72/200\n",
      "8/8 [==============================] - 0s 24ms/step - loss: -46.0707 - val_loss: -42.4014\n",
      "Epoch 73/200\n",
      "8/8 [==============================] - 0s 14ms/step - loss: -45.3260 - val_loss: -44.7060\n",
      "Epoch 74/200\n",
      "8/8 [==============================] - 0s 24ms/step - loss: -46.0740 - val_loss: -43.7321\n",
      "Epoch 75/200\n",
      "8/8 [==============================] - 0s 20ms/step - loss: -45.7551 - val_loss: -44.7819\n",
      "Epoch 76/200\n",
      "8/8 [==============================] - 0s 19ms/step - loss: -44.8060 - val_loss: -45.4697\n",
      "Epoch 77/200\n",
      "8/8 [==============================] - 0s 24ms/step - loss: -46.7081 - val_loss: -43.5919\n",
      "Epoch 78/200\n",
      "8/8 [==============================] - 0s 14ms/step - loss: -44.1326 - val_loss: -44.6446\n",
      "Epoch 79/200\n",
      "8/8 [==============================] - 0s 25ms/step - loss: -45.8373 - val_loss: -40.7824\n",
      "Epoch 80/200\n",
      "8/8 [==============================] - 0s 26ms/step - loss: -44.8207 - val_loss: -44.6064\n",
      "Epoch 81/200\n",
      "8/8 [==============================] - 0s 24ms/step - loss: -46.7580 - val_loss: -44.0186\n",
      "Epoch 82/200\n",
      "8/8 [==============================] - 0s 13ms/step - loss: -44.5229 - val_loss: -45.4506\n",
      "Epoch 83/200\n",
      "8/8 [==============================] - 0s 25ms/step - loss: -46.1235 - val_loss: -42.5525\n",
      "Epoch 84/200\n",
      "8/8 [==============================] - 0s 27ms/step - loss: -45.9934 - val_loss: -44.6919\n",
      "Epoch 85/200\n",
      "8/8 [==============================] - 0s 24ms/step - loss: -44.7244 - val_loss: -45.4239\n",
      "Epoch 86/200\n",
      "8/8 [==============================] - 0s 15ms/step - loss: -45.1736 - val_loss: -45.3644\n",
      "Epoch 87/200\n",
      "8/8 [==============================] - 0s 23ms/step - loss: -46.2940 - val_loss: -44.7456\n",
      "Epoch 88/200\n",
      "8/8 [==============================] - 0s 13ms/step - loss: -46.7381 - val_loss: -45.5858\n",
      "Epoch 89/200\n",
      "8/8 [==============================] - 0s 13ms/step - loss: -44.6299 - val_loss: -44.6944\n",
      "Epoch 90/200\n",
      "8/8 [==============================] - 0s 13ms/step - loss: -46.1535 - val_loss: -44.9136\n",
      "Epoch 91/200\n",
      "8/8 [==============================] - 0s 13ms/step - loss: -46.0238 - val_loss: -44.5495\n",
      "Epoch 92/200\n",
      "8/8 [==============================] - 0s 25ms/step - loss: -45.8346 - val_loss: -44.2640\n",
      "Epoch 93/200\n",
      "8/8 [==============================] - 0s 13ms/step - loss: -46.6473 - val_loss: -45.8261\n",
      "Epoch 94/200\n",
      "8/8 [==============================] - 0s 13ms/step - loss: -45.3648 - val_loss: -46.0234\n",
      "Epoch 95/200\n",
      "8/8 [==============================] - 0s 25ms/step - loss: -44.8693 - val_loss: -42.6905\n",
      "Epoch 96/200\n",
      "8/8 [==============================] - 0s 15ms/step - loss: -45.2589 - val_loss: -45.4357\n",
      "Epoch 97/200\n",
      "8/8 [==============================] - 0s 23ms/step - loss: -46.6459 - val_loss: -44.0201\n",
      "Epoch 98/200\n",
      "8/8 [==============================] - 0s 13ms/step - loss: -47.1128 - val_loss: -45.0417\n",
      "Epoch 99/200\n",
      "8/8 [==============================] - 0s 13ms/step - loss: -46.7269 - val_loss: -44.3320\n",
      "Epoch 100/200\n",
      "8/8 [==============================] - 0s 12ms/step - loss: -45.0364 - val_loss: -45.0043\n",
      "Epoch 101/200\n",
      "8/8 [==============================] - 0s 14ms/step - loss: -47.2414 - val_loss: -44.4168\n",
      "Epoch 102/200\n",
      "8/8 [==============================] - 0s 25ms/step - loss: -44.8393 - val_loss: -44.8890\n",
      "Epoch 103/200\n",
      "8/8 [==============================] - 0s 13ms/step - loss: -45.2775 - val_loss: -45.4014\n",
      "Epoch 104/200\n",
      "8/8 [==============================] - 0s 26ms/step - loss: -45.9255 - val_loss: -42.7368\n",
      "Epoch 105/200\n",
      "8/8 [==============================] - 0s 24ms/step - loss: -45.4988 - val_loss: -42.8809\n",
      "Epoch 106/200\n",
      "8/8 [==============================] - 0s 13ms/step - loss: -47.1596 - val_loss: -42.7075\n",
      "Epoch 107/200\n",
      "8/8 [==============================] - 0s 13ms/step - loss: -44.4599 - val_loss: -44.4014\n",
      "Epoch 108/200\n",
      "8/8 [==============================] - 0s 15ms/step - loss: -47.0462 - val_loss: -43.5879\n",
      "Epoch 109/200\n",
      "8/8 [==============================] - 0s 22ms/step - loss: -46.2335 - val_loss: -45.9712\n",
      "Epoch 110/200\n",
      "8/8 [==============================] - 0s 13ms/step - loss: -47.2198 - val_loss: -41.2499\n",
      "Epoch 111/200\n",
      "8/8 [==============================] - 0s 13ms/step - loss: -45.3971 - val_loss: -43.4552\n",
      "Epoch 112/200\n",
      "8/8 [==============================] - 0s 13ms/step - loss: -45.7067 - val_loss: -45.8212\n",
      "Epoch 113/200\n",
      "8/8 [==============================] - 0s 13ms/step - loss: -45.3740 - val_loss: -45.8352\n",
      "Epoch 114/200\n",
      "8/8 [==============================] - 0s 25ms/step - loss: -47.3628 - val_loss: -46.2713\n",
      "Epoch 115/200\n",
      "8/8 [==============================] - 0s 14ms/step - loss: -46.0463 - val_loss: -44.5689\n",
      "Epoch 116/200\n",
      "8/8 [==============================] - 0s 26ms/step - loss: -44.6764 - val_loss: -45.1616\n",
      "Epoch 117/200\n",
      "8/8 [==============================] - 0s 25ms/step - loss: -47.8690 - val_loss: -42.3152\n",
      "Epoch 118/200\n",
      "8/8 [==============================] - 0s 23ms/step - loss: -46.3760 - val_loss: -44.0004\n",
      "Epoch 119/200\n",
      "8/8 [==============================] - 0s 14ms/step - loss: -47.2851 - val_loss: -43.5013\n",
      "Epoch 120/200\n",
      "8/8 [==============================] - 0s 13ms/step - loss: -44.9031 - val_loss: -45.7597\n",
      "Epoch 121/200\n",
      "8/8 [==============================] - 0s 13ms/step - loss: -46.7907 - val_loss: -45.3431\n",
      "Epoch 122/200\n",
      "8/8 [==============================] - 0s 25ms/step - loss: -45.7521 - val_loss: -44.8083\n",
      "Epoch 123/200\n",
      "8/8 [==============================] - 0s 13ms/step - loss: -47.0490 - val_loss: -45.9185\n",
      "Epoch 124/200\n",
      "8/8 [==============================] - 0s 24ms/step - loss: -46.9248 - val_loss: -46.0967\n",
      "Epoch 125/200\n",
      "8/8 [==============================] - 0s 13ms/step - loss: -47.3136 - val_loss: -45.7014\n",
      "Epoch 126/200\n",
      "8/8 [==============================] - 0s 14ms/step - loss: -46.3202 - val_loss: -39.9379\n",
      "Epoch 127/200\n",
      "8/8 [==============================] - 0s 24ms/step - loss: -47.2315 - val_loss: -45.5154\n",
      "Epoch 128/200\n",
      "8/8 [==============================] - 0s 13ms/step - loss: -46.1367 - val_loss: -44.9242\n",
      "Epoch 129/200\n",
      "8/8 [==============================] - 0s 13ms/step - loss: -47.2560 - val_loss: -45.5854\n",
      "Epoch 130/200\n",
      "8/8 [==============================] - 0s 13ms/step - loss: -47.4368 - val_loss: -44.7372\n",
      "Epoch 131/200\n",
      "8/8 [==============================] - 0s 14ms/step - loss: -47.5563 - val_loss: -45.0263\n",
      "Epoch 132/200\n",
      "8/8 [==============================] - 0s 23ms/step - loss: -47.4512 - val_loss: -43.4370\n",
      "Epoch 133/200\n",
      "8/8 [==============================] - 0s 14ms/step - loss: -46.4843 - val_loss: -44.0413\n",
      "Epoch 134/200\n",
      "8/8 [==============================] - 0s 16ms/step - loss: -46.0373 - val_loss: -43.9354\n",
      "Epoch 135/200\n",
      "8/8 [==============================] - 0s 24ms/step - loss: -45.3273 - val_loss: -45.0990\n",
      "Epoch 136/200\n",
      "8/8 [==============================] - 0s 25ms/step - loss: -47.5440 - val_loss: -42.4027\n",
      "Epoch 137/200\n",
      "8/8 [==============================] - 0s 25ms/step - loss: -48.3163 - val_loss: -46.0006\n",
      "Epoch 138/200\n",
      "8/8 [==============================] - 0s 25ms/step - loss: -46.2200 - val_loss: -42.9564\n",
      "Epoch 139/200\n",
      "8/8 [==============================] - 0s 24ms/step - loss: -46.6407 - val_loss: -44.7793\n",
      "Epoch 140/200\n",
      "8/8 [==============================] - 0s 13ms/step - loss: -47.2922 - val_loss: -44.7613\n",
      "Epoch 141/200\n",
      "8/8 [==============================] - 0s 14ms/step - loss: -46.9975 - val_loss: -42.9861\n",
      "Epoch 142/200\n",
      "8/8 [==============================] - 0s 25ms/step - loss: -47.7275 - val_loss: -45.7256\n",
      "Epoch 143/200\n",
      "8/8 [==============================] - 0s 13ms/step - loss: -47.0439 - val_loss: -46.2373\n",
      "Epoch 144/200\n",
      "8/8 [==============================] - 0s 13ms/step - loss: -47.8226 - val_loss: -44.8338\n",
      "Epoch 145/200\n",
      "8/8 [==============================] - 0s 13ms/step - loss: -47.3168 - val_loss: -42.3574\n",
      "Epoch 146/200\n",
      "8/8 [==============================] - 0s 25ms/step - loss: -46.1284 - val_loss: -46.2387\n",
      "Epoch 147/200\n",
      "8/8 [==============================] - 0s 13ms/step - loss: -45.8890 - val_loss: -45.8494\n",
      "Epoch 148/200\n",
      "8/8 [==============================] - 0s 14ms/step - loss: -47.6563 - val_loss: -45.7553\n",
      "Epoch 149/200\n",
      "8/8 [==============================] - 0s 24ms/step - loss: -47.2453 - val_loss: -42.7648\n",
      "Epoch 150/200\n",
      "8/8 [==============================] - 0s 14ms/step - loss: -47.3151 - val_loss: -45.9865\n",
      "Epoch 151/200\n",
      "8/8 [==============================] - 0s 26ms/step - loss: -47.4678 - val_loss: -43.2598\n",
      "Epoch 152/200\n",
      "8/8 [==============================] - 0s 24ms/step - loss: -48.1052 - val_loss: -44.0523\n",
      "Epoch 153/200\n",
      "8/8 [==============================] - 0s 13ms/step - loss: -45.7283 - val_loss: -45.9877\n",
      "Epoch 154/200\n",
      "8/8 [==============================] - 0s 15ms/step - loss: -48.1781 - val_loss: -42.7831\n",
      "Epoch 155/200\n",
      "8/8 [==============================] - 0s 22ms/step - loss: -48.2172 - val_loss: -43.5961\n",
      "Epoch 156/200\n",
      "8/8 [==============================] - 0s 16ms/step - loss: -47.6358 - val_loss: -43.0818\n",
      "Epoch 157/200\n",
      "8/8 [==============================] - 0s 22ms/step - loss: -47.6106 - val_loss: -42.8073\n",
      "Epoch 158/200\n",
      "8/8 [==============================] - 0s 14ms/step - loss: -47.4665 - val_loss: -44.7105\n",
      "Epoch 159/200\n",
      "8/8 [==============================] - 0s 22ms/step - loss: -45.0169 - val_loss: -43.6395\n",
      "Epoch 160/200\n",
      "8/8 [==============================] - 0s 13ms/step - loss: -47.9236 - val_loss: -45.7043\n",
      "Epoch 161/200\n",
      "8/8 [==============================] - 0s 13ms/step - loss: -46.0741 - val_loss: -44.3946\n",
      "Epoch 162/200\n",
      "8/8 [==============================] - 0s 14ms/step - loss: -48.3729 - val_loss: -45.1214\n",
      "Epoch 163/200\n",
      "8/8 [==============================] - 0s 13ms/step - loss: -48.2641 - val_loss: -45.4418\n",
      "Epoch 164/200\n",
      "8/8 [==============================] - 0s 12ms/step - loss: -47.6385 - val_loss: -44.9878\n",
      "Epoch 165/200\n",
      "8/8 [==============================] - 0s 13ms/step - loss: -46.3653 - val_loss: -44.8407\n",
      "Epoch 166/200\n",
      "8/8 [==============================] - 0s 13ms/step - loss: -47.4117 - val_loss: -44.9704\n",
      "Epoch 167/200\n",
      "8/8 [==============================] - 0s 14ms/step - loss: -47.9166 - val_loss: -45.0502\n",
      "Epoch 168/200\n",
      "8/8 [==============================] - 0s 24ms/step - loss: -48.0564 - val_loss: -45.4906\n",
      "Epoch 169/200\n",
      "8/8 [==============================] - 0s 14ms/step - loss: -47.5056 - val_loss: -45.0561\n",
      "Epoch 170/200\n",
      "8/8 [==============================] - 0s 13ms/step - loss: -47.5652 - val_loss: -45.6353\n",
      "Epoch 171/200\n",
      "8/8 [==============================] - 0s 14ms/step - loss: -48.3636 - val_loss: -45.5316\n",
      "Epoch 172/200\n",
      "8/8 [==============================] - 0s 24ms/step - loss: -48.1794 - val_loss: -41.3615\n",
      "Epoch 173/200\n",
      "8/8 [==============================] - 0s 13ms/step - loss: -45.1180 - val_loss: -45.1700\n",
      "Epoch 174/200\n",
      "8/8 [==============================] - 0s 15ms/step - loss: -48.6589 - val_loss: -45.8670\n",
      "Epoch 175/200\n",
      "8/8 [==============================] - 0s 25ms/step - loss: -48.2494 - val_loss: -45.3313\n",
      "Epoch 176/200\n",
      "8/8 [==============================] - 0s 13ms/step - loss: -48.0437 - val_loss: -44.6905\n",
      "Epoch 177/200\n",
      "8/8 [==============================] - 0s 13ms/step - loss: -48.3299 - val_loss: -45.1451\n",
      "Epoch 178/200\n",
      "8/8 [==============================] - 0s 13ms/step - loss: -46.2524 - val_loss: -44.5866\n",
      "Epoch 179/200\n",
      "8/8 [==============================] - 0s 12ms/step - loss: -48.3289 - val_loss: -44.7276\n",
      "Epoch 180/200\n",
      "8/8 [==============================] - 0s 14ms/step - loss: -47.7712 - val_loss: -45.3125\n",
      "Epoch 181/200\n",
      "8/8 [==============================] - 0s 24ms/step - loss: -47.1978 - val_loss: -45.4725\n",
      "Epoch 182/200\n",
      "8/8 [==============================] - 0s 12ms/step - loss: -47.7975 - val_loss: -44.4434\n",
      "Epoch 183/200\n",
      "8/8 [==============================] - 0s 12ms/step - loss: -48.3261 - val_loss: -44.1849\n",
      "Epoch 184/200\n",
      "8/8 [==============================] - 0s 13ms/step - loss: -48.7460 - val_loss: -45.9714\n",
      "Epoch 185/200\n",
      "8/8 [==============================] - 0s 13ms/step - loss: -49.1393 - val_loss: -45.0947\n",
      "Epoch 186/200\n",
      "8/8 [==============================] - 0s 13ms/step - loss: -47.4768 - val_loss: -45.4019\n",
      "Epoch 187/200\n",
      "8/8 [==============================] - 0s 13ms/step - loss: -47.9941 - val_loss: -44.3501\n",
      "Epoch 188/200\n",
      "8/8 [==============================] - 0s 13ms/step - loss: -48.1668 - val_loss: -46.2920\n",
      "Epoch 189/200\n",
      "8/8 [==============================] - 0s 13ms/step - loss: -46.7549 - val_loss: -43.4398\n",
      "Epoch 190/200\n",
      "8/8 [==============================] - 0s 13ms/step - loss: -48.0492 - val_loss: -42.4176\n",
      "Epoch 191/200\n",
      "8/8 [==============================] - 0s 13ms/step - loss: -48.4312 - val_loss: -44.6082\n",
      "Epoch 192/200\n",
      "8/8 [==============================] - 0s 14ms/step - loss: -48.4825 - val_loss: -43.6804\n",
      "Epoch 193/200\n",
      "8/8 [==============================] - 0s 24ms/step - loss: -47.6797 - val_loss: -44.3227\n",
      "Epoch 194/200\n",
      "8/8 [==============================] - 0s 13ms/step - loss: -48.5461 - val_loss: -44.9838\n",
      "Epoch 195/200\n",
      "8/8 [==============================] - 0s 13ms/step - loss: -49.1288 - val_loss: -45.2486\n",
      "Epoch 196/200\n",
      "8/8 [==============================] - 0s 13ms/step - loss: -46.7356 - val_loss: -46.0136\n",
      "Epoch 197/200\n",
      "8/8 [==============================] - 0s 13ms/step - loss: -48.7437 - val_loss: -45.4910\n",
      "Epoch 198/200\n",
      "8/8 [==============================] - 0s 24ms/step - loss: -47.7961 - val_loss: -46.2850\n",
      "Epoch 199/200\n",
      "8/8 [==============================] - 0s 13ms/step - loss: -48.7297 - val_loss: -45.9020\n",
      "Epoch 200/200\n",
      "8/8 [==============================] - 0s 13ms/step - loss: -48.7716 - val_loss: -44.9577\n"
     ]
    }
   ],
   "source": [
    "history = model.fit_generator(\n",
    "    training_generator,\n",
    "    validation_data=validation_generator,\n",
    "    epochs=200\n",
    ")"
   ]
  },
  {
   "cell_type": "code",
   "execution_count": 216,
   "metadata": {},
   "outputs": [
    {
     "data": {
      "image/png": "[encoded data removed]",
      "text/plain": [
       "<Figure size 432x288 with 1 Axes>"
      ]
     },
     "metadata": {},
     "output_type": "display_data"
    }
   ],
   "source": [
    "loss = history.history['loss']\n",
    "val_loss = history.history['val_loss']\n",
    "\n",
    "epochs = range(1, len(loss) + 1)\n",
    "\n",
    "plt.figure()\n",
    "plt.plot(epochs, loss, 'bo', label='Training Loss')\n",
    "plt.plot(epochs, val_loss, 'b', label='Validation Loss')\n",
    "plt.legend()\n",
    "plt.show()"
   ]
  },
  {
   "cell_type": "code",
   "execution_count": 217,
   "metadata": {},
   "outputs": [
    {
     "data": {
      "text/plain": [
       "12.043478260869565"
      ]
     },
     "execution_count": 217,
     "metadata": {},
     "output_type": "execute_result"
    }
   ],
   "source": [
    "predictions = model.predict_generator(validation_generator)\n",
    "predictions = [np.round(prediction)[0] for prediction in predictions]\n",
    "metrics.mean_absolute_error(validation_targets, predictions)"
   ]
  }
 ],
 "metadata": {
  "kernelspec": {
   "display_name": "Python 3",
   "language": "python",
   "name": "python3"
  },
  "language_info": {
   "codemirror_mode": {
    "name": "ipython",
    "version": 3
   },
   "file_extension": ".py",
   "mimetype": "text/x-python",
   "name": "python",
   "nbconvert_exporter": "python",
   "pygments_lexer": "ipython3",
   "version": "3.6.5"
  }
 },
 "nbformat": 4,
 "nbformat_minor": 2
}
